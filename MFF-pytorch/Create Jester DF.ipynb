{
 "cells": [
  {
   "cell_type": "code",
   "execution_count": 1,
   "id": "2055c91b",
   "metadata": {},
   "outputs": [
    {
     "data": {
      "text/html": [
       "<style>.container { width:75% !important; }</style>"
      ],
      "text/plain": [
       "<IPython.core.display.HTML object>"
      ]
     },
     "metadata": {},
     "output_type": "display_data"
    }
   ],
   "source": [
    "from IPython.core.display import display, HTML\n",
    "display(HTML(\"<style>.container { width:75% !important; }</style>\"))"
   ]
  },
  {
   "cell_type": "code",
   "execution_count": 2,
   "id": "54444905",
   "metadata": {},
   "outputs": [],
   "source": [
    "from tqdm.notebook import tqdm\n",
    "\n",
    "import numpy as np\n",
    "import pandas as pd\n",
    "\n",
    "import sys\n",
    "import glob\n",
    "\n",
    "tqdm.pandas()"
   ]
  },
  {
   "cell_type": "code",
   "execution_count": 3,
   "id": "92984591",
   "metadata": {},
   "outputs": [
    {
     "name": "stdout",
     "output_type": "stream",
     "text": [
      "python version: P3.7.9 (default, Aug 31 2020, 17:10:11) [MSC v.1916 64 bit (AMD64)]\n"
     ]
    }
   ],
   "source": [
    "print(f'python version: P{sys.version}')"
   ]
  },
  {
   "cell_type": "code",
   "execution_count": 4,
   "id": "db00dea6",
   "metadata": {},
   "outputs": [],
   "source": [
    "DATASET_FOLDER =  'C:/Users/markw/Downloads/20bn-jester-v1'\n",
    "JESTER_FOLDER = 'D:/MEGA/Nijmegen/Master Stage/notebooks/MFF-pytorch/datasets/jester-v1'"
   ]
  },
  {
   "cell_type": "code",
   "execution_count": 5,
   "id": "8a7fda97",
   "metadata": {},
   "outputs": [
    {
     "data": {
      "text/html": [
       "<div>\n",
       "<style scoped>\n",
       "    .dataframe tbody tr th:only-of-type {\n",
       "        vertical-align: middle;\n",
       "    }\n",
       "\n",
       "    .dataframe tbody tr th {\n",
       "        vertical-align: top;\n",
       "    }\n",
       "\n",
       "    .dataframe thead th {\n",
       "        text-align: right;\n",
       "    }\n",
       "</style>\n",
       "<table border=\"1\" class=\"dataframe\">\n",
       "  <thead>\n",
       "    <tr style=\"text-align: right;\">\n",
       "      <th></th>\n",
       "      <th>folder</th>\n",
       "      <th>label</th>\n",
       "      <th>subset</th>\n",
       "    </tr>\n",
       "  </thead>\n",
       "  <tbody>\n",
       "    <tr>\n",
       "      <th>37968</th>\n",
       "      <td>125277</td>\n",
       "      <td>Sliding Two Fingers Left</td>\n",
       "      <td>train</td>\n",
       "    </tr>\n",
       "    <tr>\n",
       "      <th>86860</th>\n",
       "      <td>126146</td>\n",
       "      <td>Zooming Out With Full Hand</td>\n",
       "      <td>train</td>\n",
       "    </tr>\n",
       "    <tr>\n",
       "      <th>53365</th>\n",
       "      <td>69168</td>\n",
       "      <td>Pulling Hand In</td>\n",
       "      <td>train</td>\n",
       "    </tr>\n",
       "    <tr>\n",
       "      <th>76313</th>\n",
       "      <td>9839</td>\n",
       "      <td>Drumming Fingers</td>\n",
       "      <td>train</td>\n",
       "    </tr>\n",
       "    <tr>\n",
       "      <th>76215</th>\n",
       "      <td>47304</td>\n",
       "      <td>Swiping Up</td>\n",
       "      <td>train</td>\n",
       "    </tr>\n",
       "  </tbody>\n",
       "</table>\n",
       "</div>"
      ],
      "text/plain": [
       "       folder                       label subset\n",
       "37968  125277    Sliding Two Fingers Left  train\n",
       "86860  126146  Zooming Out With Full Hand  train\n",
       "53365   69168             Pulling Hand In  train\n",
       "76313    9839            Drumming Fingers  train\n",
       "76215   47304                  Swiping Up  train"
      ]
     },
     "metadata": {},
     "output_type": "display_data"
    },
    {
     "name": "stdout",
     "output_type": "stream",
     "text": [
      "<class 'pandas.core.frame.DataFrame'>\n",
      "RangeIndex: 118562 entries, 0 to 118561\n",
      "Data columns (total 3 columns):\n",
      " #   Column  Non-Null Count   Dtype \n",
      "---  ------  --------------   ----- \n",
      " 0   folder  118562 non-null  uint32\n",
      " 1   label   118562 non-null  object\n",
      " 2   subset  118562 non-null  object\n",
      "dtypes: object(2), uint32(1)\n",
      "memory usage: 2.3+ MB\n"
     ]
    },
    {
     "data": {
      "text/plain": [
       "None"
      ]
     },
     "metadata": {},
     "output_type": "display_data"
    }
   ],
   "source": [
    "train = pd.read_csv(f'{JESTER_FOLDER}/jester-v1-train.csv', sep=';', header=None, names=['folder', 'label'], dtype={ 'folder': np.uint32 })\n",
    "train['subset'] = 'train'\n",
    "display(train.sample(5))\n",
    "display(train.info())"
   ]
  },
  {
   "cell_type": "code",
   "execution_count": 6,
   "id": "757b32a5",
   "metadata": {},
   "outputs": [
    {
     "data": {
      "text/html": [
       "<div>\n",
       "<style scoped>\n",
       "    .dataframe tbody tr th:only-of-type {\n",
       "        vertical-align: middle;\n",
       "    }\n",
       "\n",
       "    .dataframe tbody tr th {\n",
       "        vertical-align: top;\n",
       "    }\n",
       "\n",
       "    .dataframe thead th {\n",
       "        text-align: right;\n",
       "    }\n",
       "</style>\n",
       "<table border=\"1\" class=\"dataframe\">\n",
       "  <thead>\n",
       "    <tr style=\"text-align: right;\">\n",
       "      <th></th>\n",
       "      <th>folder</th>\n",
       "      <th>label</th>\n",
       "      <th>subset</th>\n",
       "    </tr>\n",
       "  </thead>\n",
       "  <tbody>\n",
       "    <tr>\n",
       "      <th>13416</th>\n",
       "      <td>34126</td>\n",
       "      <td>Thumb Down</td>\n",
       "      <td>val</td>\n",
       "    </tr>\n",
       "    <tr>\n",
       "      <th>9453</th>\n",
       "      <td>103769</td>\n",
       "      <td>Swiping Right</td>\n",
       "      <td>val</td>\n",
       "    </tr>\n",
       "    <tr>\n",
       "      <th>13560</th>\n",
       "      <td>60428</td>\n",
       "      <td>Swiping Right</td>\n",
       "      <td>val</td>\n",
       "    </tr>\n",
       "    <tr>\n",
       "      <th>11196</th>\n",
       "      <td>35835</td>\n",
       "      <td>Sliding Two Fingers Up</td>\n",
       "      <td>val</td>\n",
       "    </tr>\n",
       "    <tr>\n",
       "      <th>10610</th>\n",
       "      <td>63703</td>\n",
       "      <td>Zooming In With Full Hand</td>\n",
       "      <td>val</td>\n",
       "    </tr>\n",
       "  </tbody>\n",
       "</table>\n",
       "</div>"
      ],
      "text/plain": [
       "       folder                      label subset\n",
       "13416   34126                 Thumb Down    val\n",
       "9453   103769              Swiping Right    val\n",
       "13560   60428              Swiping Right    val\n",
       "11196   35835     Sliding Two Fingers Up    val\n",
       "10610   63703  Zooming In With Full Hand    val"
      ]
     },
     "metadata": {},
     "output_type": "display_data"
    },
    {
     "name": "stdout",
     "output_type": "stream",
     "text": [
      "<class 'pandas.core.frame.DataFrame'>\n",
      "RangeIndex: 14787 entries, 0 to 14786\n",
      "Data columns (total 3 columns):\n",
      " #   Column  Non-Null Count  Dtype \n",
      "---  ------  --------------  ----- \n",
      " 0   folder  14787 non-null  uint32\n",
      " 1   label   14787 non-null  object\n",
      " 2   subset  14787 non-null  object\n",
      "dtypes: object(2), uint32(1)\n",
      "memory usage: 288.9+ KB\n"
     ]
    },
    {
     "data": {
      "text/plain": [
       "None"
      ]
     },
     "metadata": {},
     "output_type": "display_data"
    }
   ],
   "source": [
    "val = pd.read_csv(f'{JESTER_FOLDER}/jester-v1-validation.csv', sep=';', header=None, names=['folder', 'label'], dtype={ 'folder': np.uint32 })\n",
    "val['subset'] = 'val'\n",
    "display(val.sample(5))\n",
    "display(val.info())"
   ]
  },
  {
   "cell_type": "code",
   "execution_count": 7,
   "id": "071f17ef",
   "metadata": {},
   "outputs": [
    {
     "data": {
      "text/html": [
       "<div>\n",
       "<style scoped>\n",
       "    .dataframe tbody tr th:only-of-type {\n",
       "        vertical-align: middle;\n",
       "    }\n",
       "\n",
       "    .dataframe tbody tr th {\n",
       "        vertical-align: top;\n",
       "    }\n",
       "\n",
       "    .dataframe thead th {\n",
       "        text-align: right;\n",
       "    }\n",
       "</style>\n",
       "<table border=\"1\" class=\"dataframe\">\n",
       "  <thead>\n",
       "    <tr style=\"text-align: right;\">\n",
       "      <th></th>\n",
       "      <th>folder</th>\n",
       "      <th>label</th>\n",
       "      <th>subset</th>\n",
       "    </tr>\n",
       "  </thead>\n",
       "  <tbody>\n",
       "    <tr>\n",
       "      <th>631</th>\n",
       "      <td>10560</td>\n",
       "      <td>None</td>\n",
       "      <td>test</td>\n",
       "    </tr>\n",
       "    <tr>\n",
       "      <th>9604</th>\n",
       "      <td>30676</td>\n",
       "      <td>None</td>\n",
       "      <td>test</td>\n",
       "    </tr>\n",
       "    <tr>\n",
       "      <th>1142</th>\n",
       "      <td>81490</td>\n",
       "      <td>None</td>\n",
       "      <td>test</td>\n",
       "    </tr>\n",
       "    <tr>\n",
       "      <th>10942</th>\n",
       "      <td>132465</td>\n",
       "      <td>None</td>\n",
       "      <td>test</td>\n",
       "    </tr>\n",
       "    <tr>\n",
       "      <th>554</th>\n",
       "      <td>139027</td>\n",
       "      <td>None</td>\n",
       "      <td>test</td>\n",
       "    </tr>\n",
       "  </tbody>\n",
       "</table>\n",
       "</div>"
      ],
      "text/plain": [
       "       folder label subset\n",
       "631     10560  None   test\n",
       "9604    30676  None   test\n",
       "1142    81490  None   test\n",
       "10942  132465  None   test\n",
       "554    139027  None   test"
      ]
     },
     "metadata": {},
     "output_type": "display_data"
    },
    {
     "name": "stdout",
     "output_type": "stream",
     "text": [
      "<class 'pandas.core.frame.DataFrame'>\n",
      "RangeIndex: 14743 entries, 0 to 14742\n",
      "Data columns (total 3 columns):\n",
      " #   Column  Non-Null Count  Dtype \n",
      "---  ------  --------------  ----- \n",
      " 0   folder  14743 non-null  uint32\n",
      " 1   label   0 non-null      object\n",
      " 2   subset  14743 non-null  object\n",
      "dtypes: object(2), uint32(1)\n",
      "memory usage: 288.1+ KB\n"
     ]
    },
    {
     "data": {
      "text/plain": [
       "None"
      ]
     },
     "metadata": {},
     "output_type": "display_data"
    }
   ],
   "source": [
    "test = pd.read_csv(f'{JESTER_FOLDER}/jester-v1-test.csv', sep=';', header=None, names=['folder'], dtype={ 'folder': np.uint32 })\n",
    "test['label'] = None\n",
    "test['subset'] = 'test'\n",
    "display(test.sample(5))\n",
    "display(test.info())"
   ]
  },
  {
   "cell_type": "code",
   "execution_count": 9,
   "id": "aaade67e",
   "metadata": {},
   "outputs": [
    {
     "name": "stdout",
     "output_type": "stream",
     "text": [
      "Unique Labels: [ 0  1  2  3  4  5  6  7  8  9 10 11 12 13 14 15 16 17 18 19 20 21 22 23\n",
      " 24 25 26 -1]\n"
     ]
    },
    {
     "data": {
      "text/html": [
       "<div>\n",
       "<style scoped>\n",
       "    .dataframe tbody tr th:only-of-type {\n",
       "        vertical-align: middle;\n",
       "    }\n",
       "\n",
       "    .dataframe tbody tr th {\n",
       "        vertical-align: top;\n",
       "    }\n",
       "\n",
       "    .dataframe thead th {\n",
       "        text-align: right;\n",
       "    }\n",
       "</style>\n",
       "<table border=\"1\" class=\"dataframe\">\n",
       "  <thead>\n",
       "    <tr style=\"text-align: right;\">\n",
       "      <th></th>\n",
       "      <th>label</th>\n",
       "      <th>label_int</th>\n",
       "    </tr>\n",
       "  </thead>\n",
       "  <tbody>\n",
       "    <tr>\n",
       "      <th>0</th>\n",
       "      <td>Swiping Left</td>\n",
       "      <td>0</td>\n",
       "    </tr>\n",
       "    <tr>\n",
       "      <th>1</th>\n",
       "      <td>Swiping Right</td>\n",
       "      <td>1</td>\n",
       "    </tr>\n",
       "    <tr>\n",
       "      <th>2</th>\n",
       "      <td>Swiping Down</td>\n",
       "      <td>2</td>\n",
       "    </tr>\n",
       "    <tr>\n",
       "      <th>3</th>\n",
       "      <td>Swiping Up</td>\n",
       "      <td>3</td>\n",
       "    </tr>\n",
       "    <tr>\n",
       "      <th>4</th>\n",
       "      <td>Pushing Hand Away</td>\n",
       "      <td>4</td>\n",
       "    </tr>\n",
       "  </tbody>\n",
       "</table>\n",
       "</div>"
      ],
      "text/plain": [
       "               label  label_int\n",
       "0       Swiping Left          0\n",
       "1      Swiping Right          1\n",
       "2       Swiping Down          2\n",
       "3         Swiping Up          3\n",
       "4  Pushing Hand Away          4"
      ]
     },
     "metadata": {},
     "output_type": "display_data"
    },
    {
     "name": "stdout",
     "output_type": "stream",
     "text": [
      "<class 'pandas.core.frame.DataFrame'>\n",
      "RangeIndex: 28 entries, 0 to 27\n",
      "Data columns (total 2 columns):\n",
      " #   Column     Non-Null Count  Dtype \n",
      "---  ------     --------------  ----- \n",
      " 0   label      27 non-null     object\n",
      " 1   label_int  28 non-null     int8  \n",
      "dtypes: int8(1), object(1)\n",
      "memory usage: 380.0+ bytes\n"
     ]
    },
    {
     "data": {
      "text/plain": [
       "None"
      ]
     },
     "metadata": {},
     "output_type": "display_data"
    }
   ],
   "source": [
    "labels = pd.read_csv(f'{JESTER_FOLDER}/jester-v1-labels.csv', sep=';', header=None, names=['label'])\n",
    "labels['label_int'] = labels.index.values\n",
    "# append None label for test set\n",
    "labels = labels.append({'label': None, 'label_int': -1}, ignore_index=True)\n",
    "labels['label_int'] = labels['label_int'].astype(np.int8)\n",
    "print(f'Unique Labels:', labels['label_int'].unique())\n",
    "display(labels.head())\n",
    "display(labels.info())"
   ]
  },
  {
   "cell_type": "markdown",
   "id": "f8417060",
   "metadata": {},
   "source": [
    "# Concatenate"
   ]
  },
  {
   "cell_type": "code",
   "execution_count": 14,
   "id": "502684df",
   "metadata": {},
   "outputs": [],
   "source": [
    "jester_df = pd.concat([train, val, test]).merge(labels, on='label')\n",
    "# label and subset to category\n",
    "jester_df['label'] = jester_df['label'].astype('category')\n",
    "jester_df['subset'] = jester_df['subset'].astype('category')"
   ]
  },
  {
   "cell_type": "markdown",
   "id": "485b9df9",
   "metadata": {},
   "source": [
    "# Count Frames"
   ]
  },
  {
   "cell_type": "code",
   "execution_count": 16,
   "id": "6917ebf1",
   "metadata": {},
   "outputs": [
    {
     "data": {
      "application/vnd.jupyter.widget-view+json": {
       "model_id": "78088f60e0f24a6296f07e82dd581af3",
       "version_major": 2,
       "version_minor": 0
      },
      "text/plain": [
       "  0%|          | 0/148092 [00:00<?, ?it/s]"
      ]
     },
     "metadata": {},
     "output_type": "display_data"
    }
   ],
   "source": [
    "# get number of frames for each video\n",
    "def count_n_frames(folder_name):\n",
    "    return len(glob.glob(f'{DATASET_FOLDER}/rgb/{folder_name}/*'))\n",
    "\n",
    "jester_df['n_frames'] = jester_df['folder'].progress_apply(count_n_frames).astype(np.uint16)"
   ]
  },
  {
   "cell_type": "markdown",
   "id": "c8b9b2e6",
   "metadata": {},
   "source": [
    "# Save Pickle"
   ]
  },
  {
   "cell_type": "code",
   "execution_count": 17,
   "id": "01b800ea",
   "metadata": {},
   "outputs": [
    {
     "data": {
      "text/html": [
       "<div>\n",
       "<style scoped>\n",
       "    .dataframe tbody tr th:only-of-type {\n",
       "        vertical-align: middle;\n",
       "    }\n",
       "\n",
       "    .dataframe tbody tr th {\n",
       "        vertical-align: top;\n",
       "    }\n",
       "\n",
       "    .dataframe thead th {\n",
       "        text-align: right;\n",
       "    }\n",
       "</style>\n",
       "<table border=\"1\" class=\"dataframe\">\n",
       "  <thead>\n",
       "    <tr style=\"text-align: right;\">\n",
       "      <th></th>\n",
       "      <th>folder</th>\n",
       "      <th>label</th>\n",
       "      <th>subset</th>\n",
       "      <th>label_int</th>\n",
       "      <th>n_frames</th>\n",
       "    </tr>\n",
       "  </thead>\n",
       "  <tbody>\n",
       "    <tr>\n",
       "      <th>12849</th>\n",
       "      <td>135055</td>\n",
       "      <td>Sliding Two Fingers Down</td>\n",
       "      <td>train</td>\n",
       "      <td>8</td>\n",
       "      <td>37</td>\n",
       "    </tr>\n",
       "    <tr>\n",
       "      <th>124300</th>\n",
       "      <td>20459</td>\n",
       "      <td>Pushing Two Fingers Away</td>\n",
       "      <td>train</td>\n",
       "      <td>10</td>\n",
       "      <td>36</td>\n",
       "    </tr>\n",
       "    <tr>\n",
       "      <th>102121</th>\n",
       "      <td>136777</td>\n",
       "      <td>Zooming In With Full Hand</td>\n",
       "      <td>train</td>\n",
       "      <td>16</td>\n",
       "      <td>37</td>\n",
       "    </tr>\n",
       "    <tr>\n",
       "      <th>86895</th>\n",
       "      <td>107865</td>\n",
       "      <td>Pushing Hand Away</td>\n",
       "      <td>train</td>\n",
       "      <td>4</td>\n",
       "      <td>39</td>\n",
       "    </tr>\n",
       "    <tr>\n",
       "      <th>126720</th>\n",
       "      <td>70503</td>\n",
       "      <td>Pushing Two Fingers Away</td>\n",
       "      <td>train</td>\n",
       "      <td>10</td>\n",
       "      <td>33</td>\n",
       "    </tr>\n",
       "  </tbody>\n",
       "</table>\n",
       "</div>"
      ],
      "text/plain": [
       "        folder                      label subset  label_int  n_frames\n",
       "12849   135055   Sliding Two Fingers Down  train          8        37\n",
       "124300   20459   Pushing Two Fingers Away  train         10        36\n",
       "102121  136777  Zooming In With Full Hand  train         16        37\n",
       "86895   107865          Pushing Hand Away  train          4        39\n",
       "126720   70503   Pushing Two Fingers Away  train         10        33"
      ]
     },
     "metadata": {},
     "output_type": "display_data"
    },
    {
     "name": "stdout",
     "output_type": "stream",
     "text": [
      "<class 'pandas.core.frame.DataFrame'>\n",
      "Int64Index: 148092 entries, 0 to 148091\n",
      "Data columns (total 5 columns):\n",
      " #   Column     Non-Null Count   Dtype   \n",
      "---  ------     --------------   -----   \n",
      " 0   folder     148092 non-null  uint32  \n",
      " 1   label      133349 non-null  category\n",
      " 2   subset     148092 non-null  category\n",
      " 3   label_int  148092 non-null  int8    \n",
      " 4   n_frames   148092 non-null  uint16  \n",
      "dtypes: category(2), int8(1), uint16(1), uint32(1)\n",
      "memory usage: 2.4 MB\n"
     ]
    },
    {
     "data": {
      "text/plain": [
       "None"
      ]
     },
     "metadata": {},
     "output_type": "display_data"
    }
   ],
   "source": [
    "display(jester_df.sample(5))\n",
    "display(jester_df.info())"
   ]
  },
  {
   "cell_type": "code",
   "execution_count": 18,
   "id": "946c4165",
   "metadata": {},
   "outputs": [],
   "source": [
    "# save as csv\n",
    "jester_df.to_pickle(f'{JESTER_FOLDER}/jester_df.pkl')"
   ]
  }
 ],
 "metadata": {
  "kernelspec": {
   "display_name": "Python 3",
   "language": "python",
   "name": "python3"
  },
  "language_info": {
   "codemirror_mode": {
    "name": "ipython",
    "version": 3
   },
   "file_extension": ".py",
   "mimetype": "text/x-python",
   "name": "python",
   "nbconvert_exporter": "python",
   "pygments_lexer": "ipython3",
   "version": "3.7.9"
  }
 },
 "nbformat": 4,
 "nbformat_minor": 5
}
