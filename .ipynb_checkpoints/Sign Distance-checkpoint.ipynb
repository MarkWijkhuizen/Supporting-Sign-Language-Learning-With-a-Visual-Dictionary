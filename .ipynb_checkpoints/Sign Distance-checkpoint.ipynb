{
 "cells": [
  {
   "cell_type": "code",
   "execution_count": 1,
   "id": "449489cc",
   "metadata": {},
   "outputs": [
    {
     "data": {
      "text/html": [
       "<style>.container { width:100% !important; }</style>"
      ],
      "text/plain": [
       "<IPython.core.display.HTML object>"
      ]
     },
     "metadata": {},
     "output_type": "display_data"
    }
   ],
   "source": [
    "from IPython.core.display import display, HTML\n",
    "display(HTML('<style>.container { width:100% !important; }</style>'))"
   ]
  },
  {
   "cell_type": "code",
   "execution_count": 2,
   "id": "8656f509",
   "metadata": {},
   "outputs": [],
   "source": [
    "import pandas as pd\n",
    "import numpy as np\n",
    "\n",
    "from tqdm.notebook import tqdm\n",
    "from ipywidgets import Video\n",
    "from itertools import combinations\n",
    "\n",
    "import re\n",
    "import itertools\n",
    "import lzma\n",
    "import pickle"
   ]
  },
  {
   "cell_type": "markdown",
   "id": "ea2c34fa",
   "metadata": {},
   "source": [
    "# Location Tree"
   ]
  },
  {
   "cell_type": "code",
   "execution_count": 3,
   "id": "4f688af3",
   "metadata": {},
   "outputs": [],
   "source": [
    "# TODO add mean distance for multi location locations"
   ]
  },
  {
   "cell_type": "code",
   "execution_count": 4,
   "id": "6bb06cdb",
   "metadata": {},
   "outputs": [],
   "source": [
    "LOCATION_TREE = dict({\n",
    "    'ROOT': {\n",
    "        'Body Related (Fixed)': {\n",
    "            'Upper Body': {\n",
    "                'Head': {\n",
    "                    'High': [\n",
    "                        'Forehead',\n",
    "                        'Temple',\n",
    "                        'Ear',\n",
    "                        'Head',\n",
    "                    ],\n",
    "                    'Face Leave': [\n",
    "                        'Face'\n",
    "                    ],\n",
    "                    'Low': [\n",
    "                        'Mouth',\n",
    "                        'Chin',\n",
    "                        'Cheek',\n",
    "                        'Eye',\n",
    "                        'Nose',\n",
    "                        'Upper Lip',\n",
    "                    ],\n",
    "                },\n",
    "                'Upper Torso': [\n",
    "                    'Shoulder',\n",
    "                    'Neck',\n",
    "                    'Chest',\n",
    "                    'Shoulder Contra',\n",
    "                    'Back',\n",
    "                ],\n",
    "            },\n",
    "            'Lower Torso': [\n",
    "                'Trunk',\n",
    "                'Belly',\n",
    "                'Chest Contra',\n",
    "            ],\n",
    "            'Sub Torso': [\n",
    "                'Leg',\n",
    "                 'Knee',\n",
    "            ],\n",
    "        },\n",
    "        'Non Body Related': {\n",
    "            'Non-neutral Space': {\n",
    "                'Hand': [\n",
    "                    'WH: Thumb Side',\n",
    "                    'WH: Back',\n",
    "                    'WH: Palm',\n",
    "                    'WH: Front',\n",
    "                    'WH: Finger Tips',\n",
    "                    'WH: Ring Finger',\n",
    "                    'WH: Web Space',\n",
    "                    'WH',\n",
    "                    'Wrist',\n",
    "                ],\n",
    "                'Arm': [\n",
    "                    'Upper Arm',\n",
    "                    'Lower Arm',\n",
    "                    'Armpit',\n",
    "                    'Arm',\n",
    "                ],\n",
    "            },\n",
    "            'Neutral Space Leave': [\n",
    "                'Neutral Space',\n",
    "            ],\n",
    "        },\n",
    "    }\n",
    "})"
   ]
  },
  {
   "cell_type": "markdown",
   "id": "a674c6e1",
   "metadata": {},
   "source": [
    "# Movement Tree"
   ]
  },
  {
   "cell_type": "code",
   "execution_count": 5,
   "id": "09d541bc",
   "metadata": {},
   "outputs": [],
   "source": [
    "MOVEMENT_TREE = dict({\n",
    "    'ROOT': {\n",
    "        'None': [\n",
    "            'None',\n",
    "        ],\n",
    "        'Diagonal': {\n",
    "            'Vertical': {\n",
    "                'Single': [\n",
    "                    'Downwards',\n",
    "                    'Upwards',\n",
    "                    'Backwards and Downwards',\n",
    "                ],\n",
    "                'Double': [\n",
    "                    'Downwards and Forwards',\n",
    "                    'Upwards and Forwards',\n",
    "                    'Upwards and Downwards',\n",
    "                ],\n",
    "            },\n",
    "            'Diagonal Leave': [\n",
    "                'Ipsilateral and Upwards',\n",
    "                'Ipsilateral and Downwards',\n",
    "                'Contralateral and Upwards',\n",
    "                'Contralateral and Downwards',\n",
    "                'Downwards and Ipsilateral',\n",
    "                'Downwards and Contralateral',\n",
    "            ],\n",
    "            'Horizontal': {\n",
    "                'X Leave': {\n",
    "                    'Single': [\n",
    "                        'Ipsilateral',\n",
    "                        'Contralateral',\n",
    "                        'Contralateral and Forwards',\n",
    "                        'Ipsilateral and Forwards',\n",
    "                        'Forwards and Ipsilateral',\n",
    "                        'Backwards and Ipsilateral',\n",
    "                    ],\n",
    "                    'Double': [\n",
    "                        'Ipsilateral and Contralateral',\n",
    "                    ],\n",
    "                },\n",
    "                'Z': {\n",
    "                    'Single': [\n",
    "                        'Forwards',\n",
    "                        'Backwards',\n",
    "                    ],\n",
    "                    'Double': [\n",
    "                        'Backwards and Forwards',\n",
    "                    ],\n",
    "                },\n",
    "            },\n",
    "        },\n",
    "        'Other': [\n",
    "            'Variable',\n",
    "            'to and fro',\n",
    "            'Towards Location',\n",
    "            'From Location',\n",
    "            'Distal',\n",
    "            'Downwards and Towards',\n",
    "        ],\n",
    "    }\n",
    "})"
   ]
  },
  {
   "cell_type": "markdown",
   "id": "4a5b8a29",
   "metadata": {},
   "source": [
    "# Handedness Tree"
   ]
  },
  {
   "cell_type": "code",
   "execution_count": 6,
   "id": "d845e2ab",
   "metadata": {},
   "outputs": [],
   "source": [
    "HANDEDNESS_TREE = dict({\n",
    "    'ROOT': {\n",
    "        '1': [\n",
    "            '1',\n",
    "        ],\n",
    "        '2': [\n",
    "            '2s',\n",
    "            '2a',\n",
    "            '2n',\n",
    "        ],\n",
    "    },\n",
    "})"
   ]
  },
  {
   "cell_type": "markdown",
   "id": "64d156c9",
   "metadata": {},
   "source": [
    "# Path Distance"
   ]
  },
  {
   "cell_type": "code",
   "execution_count": 7,
   "id": "f64ce0f2",
   "metadata": {},
   "outputs": [],
   "source": [
    "def get_paths(tree, res=[]):\n",
    "    ress = dict()\n",
    "    if type(tree) is dict:\n",
    "        for k, v in tree.items():\n",
    "            res_new = res if 'leave' in k.lower() else res + [k.lower()]\n",
    "            for lk, lv in get_paths(v, res=res_new).items():\n",
    "                ress[lk] = lv\n",
    "    elif type(tree) is list:\n",
    "        for leave in tree:\n",
    "            ress[leave.lower()] = res + [leave.lower()]\n",
    "    else:\n",
    "        return []\n",
    "    \n",
    "    return ress\n",
    "\n",
    "LOCATION_TREE_PATHS = get_paths(LOCATION_TREE)\n",
    "MOVEMENT_TREE_PATHS = get_paths(MOVEMENT_TREE)\n",
    "HANDEDNESS_TREE_PATHS = get_paths(HANDEDNESS_TREE)"
   ]
  },
  {
   "cell_type": "code",
   "execution_count": 8,
   "id": "49f7a9f7",
   "metadata": {},
   "outputs": [],
   "source": [
    "def get_mean_distance(aa, bb, paths, normalize=1, debug=False):\n",
    "    if len(aa) == len(bb) and all([a == b for a, b in zip(aa, bb)]):\n",
    "         return 0\n",
    "        \n",
    "    _sum = 0\n",
    "    _count = 0\n",
    "    for a, b in itertools.product(aa, bb):\n",
    "        _sum += get_distance(a, b, paths, normalize=normalize)\n",
    "        _count += 1\n",
    "        \n",
    "    return _sum / _count"
   ]
  },
  {
   "cell_type": "code",
   "execution_count": 9,
   "id": "b49ec969",
   "metadata": {},
   "outputs": [],
   "source": [
    "def get_distance(a, b, paths, normalize=1, debug=False):\n",
    "    if a == 'MISSING' or b == 'MISSING':\n",
    "        return 0\n",
    "    \n",
    "    path_a = paths[a]\n",
    "    path_b = paths[b]\n",
    "    \n",
    "    closest_node = 0 # root\n",
    "    for node_a, node_b in zip(path_a, path_b):\n",
    "        if debug:\n",
    "            print(f'node_a: {node_a}, node_b: {node_b}')\n",
    "        \n",
    "        if node_a == node_b:\n",
    "            closest_node += 1\n",
    "            \n",
    "    return (len(path_a) + len(path_b) - (closest_node * 2)) / normalize"
   ]
  },
  {
   "cell_type": "markdown",
   "id": "ad063305",
   "metadata": {},
   "source": [
    "# Maximum Path Length in Tree"
   ]
  },
  {
   "cell_type": "code",
   "execution_count": 10,
   "id": "9598525f",
   "metadata": {},
   "outputs": [],
   "source": [
    "def get_max_distance(paths):\n",
    "    max_len = 0\n",
    "    for (a, _), (b, _) in combinations(paths.items(), 2):\n",
    "        distance = get_distance(a, b, paths)\n",
    "        max_len = max(max_len, distance)\n",
    "    \n",
    "    return max_len"
   ]
  },
  {
   "cell_type": "code",
   "execution_count": 11,
   "id": "fcb20473",
   "metadata": {},
   "outputs": [
    {
     "name": "stdout",
     "output_type": "stream",
     "text": [
      "LOCATIONS_MAX_PATH_LEN: 9.0\n",
      "MOVEMENTS_MAX_PATH_LEN: 7.0\n",
      "HANDEDNESS_MAX_PATH_LEN: 4.0\n"
     ]
    }
   ],
   "source": [
    "LOCATIONS_MAX_PATH_LEN = get_max_distance(LOCATION_TREE_PATHS)\n",
    "MOVEMENTS_MAX_PATH_LEN = get_max_distance(MOVEMENT_TREE_PATHS)\n",
    "HANDEDNESS_MAX_PATH_LEN = get_max_distance(HANDEDNESS_TREE_PATHS)\n",
    "print(f'LOCATIONS_MAX_PATH_LEN: {LOCATIONS_MAX_PATH_LEN}')\n",
    "print(f'MOVEMENTS_MAX_PATH_LEN: {MOVEMENTS_MAX_PATH_LEN}')\n",
    "print(f'HANDEDNESS_MAX_PATH_LEN: {HANDEDNESS_MAX_PATH_LEN}')"
   ]
  },
  {
   "cell_type": "markdown",
   "id": "026695e5",
   "metadata": {},
   "source": [
    "# Sign Shape Sets"
   ]
  },
  {
   "cell_type": "code",
   "execution_count": 12,
   "id": "00378ddc",
   "metadata": {},
   "outputs": [],
   "source": [
    "def get_hand_shape_features(hand_shape):\n",
    "    hand_shape_mapping = dict({\n",
    "        # General\n",
    "        'A': ['thumb'],\n",
    "        'S': ['close'],\n",
    "        'AS': ['close'],\n",
    "        'E': ['close'],\n",
    "        'bloem': ['close'],\n",
    "        # All shapes\n",
    "        'B1': ['all'],\n",
    "        'øB': ['all'],\n",
    "        'B': ['all'],\n",
    "        'B-null': ['all'],\n",
    "        'B^': ['all'],\n",
    "        'B^-null': ['all'],\n",
    "        'C1': ['all'],\n",
    "        'OB': ['all', 'open'],\n",
    "        'Q5': ['all', 'open'],\n",
    "        'OB-spr': ['all', 'open'],\n",
    "        'douche': ['all', 'open'],\n",
    "        'CB': ['all', 'close'],\n",
    "        'S': ['close'],\n",
    "        'bloem': ['close'],\n",
    "        'B^-null': ['all'],\n",
    "        'C1': ['all'],\n",
    "        '5': ['all', 'wide'],\n",
    "        '4': ['all', 'wide'],\n",
    "        'C-spr': ['all', 'curve', 'wide'],\n",
    "        '5-claw': ['all', 'curve', 'wide'],\n",
    "        'C': ['all', 'open', 'curve'],\n",
    "        'C-null': ['all', 'open', 'curve'],\n",
    "        'O': ['all', 'close', 'curve'],\n",
    "        # One Shapes\n",
    "        '1': ['one'],\n",
    "        '1^': ['one'],\n",
    "        'D': ['one'],\n",
    "        'I': ['one', 'ulnar'],\n",
    "        'L': ['one', 'thumb:out'],\n",
    "        'Y': ['one', 'ulnar', 'thumb:out'],\n",
    "        '5R': ['one', 'u:r'],\n",
    "        '5M': ['one', 'r:u'],\n",
    "        '5Rx': ['one', 'r:u', 'close'],\n",
    "        '5Mx': ['one', 'u:r', 'close'],\n",
    "        'X1': ['one', 'curve'],\n",
    "        'X2': ['curve'],\n",
    "        'bOB': ['one', 'open'],\n",
    "        'open-T': ['one', 'open'],\n",
    "        'Q': ['one', 'open'],\n",
    "        'bCB': ['one', 'close'],\n",
    "        'T': ['one', 'close'],\n",
    "        'F': ['one', 'close'],\n",
    "        'b0': ['one', 'close'],\n",
    "        'T-null': ['one', 'close'],\n",
    "        'bC': ['one', 'open', 'curve'],\n",
    "        'bCB”': ['one', 'close', 'curve'],\n",
    "        'b0': ['one', 'close'],\n",
    "        'T-null': ['one', 'close'],\n",
    "        # One => All Shapes\n",
    "        'U': ['one:all'],\n",
    "        'N': ['one:all'],\n",
    "        'U-null': ['one:all'],\n",
    "        'R': ['one:all'],\n",
    "        'Q2': ['one:all', 'open'],\n",
    "        'bOB-2': ['one:all', 'open'],\n",
    "        'douche2': ['one:all', 'open'],\n",
    "        'bCB2': ['one:all', 'close'],\n",
    "        'bC2': ['one:all', 'open', 'curve'],\n",
    "        'X2-null': ['one:all', 'open', 'curve'],\n",
    "        'bC2-spr': ['one:all', 'open', 'curve'],\n",
    "        'W-claw': ['one:all', 'open', 'curve'],\n",
    "        'X2': ['curve'],\n",
    "        'U-claw': ['one:all', 'curve'],\n",
    "        'V-claw': ['one:all', 'curve', 'wide'],\n",
    "        'bO2': ['one:all', 'close', 'curve'],\n",
    "        'V': ['one:all', 'wide'],\n",
    "        'K': ['one:all', 'wide'],\n",
    "        'P': ['one:all', 'wide'],\n",
    "        'PI': ['one:all', 'ulnar'],\n",
    "        'W': ['one:all', 'thumb', 'wide'],\n",
    "        # All => One Shapes\n",
    "        'M': ['all:one'],\n",
    "        '3': ['all:one', 'wide'],\n",
    "        # Other\n",
    "        'OTHER': [],\n",
    "    })\n",
    "    \n",
    "    if hand_shape in hand_shape_mapping.keys():\n",
    "        return set(hand_shape_mapping[hand_shape])\n",
    "    else:\n",
    "        return set([])"
   ]
  },
  {
   "cell_type": "markdown",
   "id": "ecf4b39b",
   "metadata": {},
   "source": [
    "# Sign Similarity"
   ]
  },
  {
   "cell_type": "code",
   "execution_count": 13,
   "id": "7770a7c2",
   "metadata": {},
   "outputs": [],
   "source": [
    "SUBSET = 300\n",
    "\n",
    "train = pd.read_excel(f'ngt_signbank_validation_filtered_{SUBSET}.xlsx')"
   ]
  },
  {
   "cell_type": "code",
   "execution_count": 14,
   "id": "97309a65",
   "metadata": {},
   "outputs": [
    {
     "name": "stdout",
     "output_type": "stream",
     "text": [
      "<class 'pandas.core.frame.DataFrame'>\n",
      "RangeIndex: 300 entries, 0 to 299\n",
      "Columns: 69 entries, ID to Notes\n",
      "dtypes: bool(8), float64(4), int64(17), object(40)\n",
      "memory usage: 145.4+ KB\n"
     ]
    },
    {
     "data": {
      "text/plain": [
       "None"
      ]
     },
     "metadata": {},
     "output_type": "display_data"
    }
   ],
   "source": [
    "display(train.info(max_cols=0))"
   ]
  },
  {
   "cell_type": "markdown",
   "id": "3448d728",
   "metadata": {},
   "source": [
    "# File Path"
   ]
  },
  {
   "cell_type": "code",
   "execution_count": 15,
   "id": "7c1175cb",
   "metadata": {},
   "outputs": [],
   "source": [
    "def get_file_path(row):\n",
    "    name = row['Lemma ID Gloss (Dutch)'].replace(':', '_')\n",
    "    signbank_id = row['Signbank ID']\n",
    "    \n",
    "    return f'C:/Users/markw/Documents/Master Stage Videos/NGTvideos/{name}-{signbank_id}.mp4'\n",
    "\n",
    "train['file_path'] = train.apply(get_file_path, axis=1)"
   ]
  },
  {
   "cell_type": "markdown",
   "id": "ad9be1dc",
   "metadata": {},
   "source": [
    "# Location Split"
   ]
  },
  {
   "cell_type": "code",
   "execution_count": 16,
   "id": "1470b352",
   "metadata": {},
   "outputs": [],
   "source": [
    "# Strong Hand\n",
    "train['Location Split'] = train['Location'].apply(lambda e: tuple(re.split(' > | \\+ ', str(e))))\n",
    "train['Strong Hand Split'] = train['Strong Hand'].apply(lambda e: tuple(re.split(' > | \\+ ', str(e))))\n",
    "train['Weak Hand Split'] = train['Weak Hand'].apply(lambda e: tuple(re.split(' > | \\+ ', str(e))))"
   ]
  },
  {
   "cell_type": "code",
   "execution_count": 17,
   "id": "5753865a",
   "metadata": {},
   "outputs": [
    {
     "data": {
      "text/html": [
       "<div>\n",
       "<style scoped>\n",
       "    .dataframe tbody tr th:only-of-type {\n",
       "        vertical-align: middle;\n",
       "    }\n",
       "\n",
       "    .dataframe tbody tr th {\n",
       "        vertical-align: top;\n",
       "    }\n",
       "\n",
       "    .dataframe thead th {\n",
       "        text-align: right;\n",
       "    }\n",
       "</style>\n",
       "<table border=\"1\" class=\"dataframe\">\n",
       "  <thead>\n",
       "    <tr style=\"text-align: right;\">\n",
       "      <th></th>\n",
       "      <th>ID</th>\n",
       "      <th>is_val</th>\n",
       "      <th>Person</th>\n",
       "      <th>folder_index</th>\n",
       "      <th>Signbank ID</th>\n",
       "      <th>Dataset</th>\n",
       "      <th>Lemma ID Gloss (Dutch)</th>\n",
       "      <th>Lemma ID Gloss (English)</th>\n",
       "      <th>Annotation ID Gloss (Dutch)</th>\n",
       "      <th>Annotation ID Gloss (English)</th>\n",
       "      <th>...</th>\n",
       "      <th>Simultaneous Morphology</th>\n",
       "      <th>Blend Morphology</th>\n",
       "      <th>Relations to other signs</th>\n",
       "      <th>Relations to foreign signs</th>\n",
       "      <th>Tags</th>\n",
       "      <th>Notes</th>\n",
       "      <th>file_path</th>\n",
       "      <th>Location Split</th>\n",
       "      <th>Strong Hand Split</th>\n",
       "      <th>Weak Hand Split</th>\n",
       "    </tr>\n",
       "  </thead>\n",
       "  <tbody>\n",
       "    <tr>\n",
       "      <th>0</th>\n",
       "      <td>0</td>\n",
       "      <td>X</td>\n",
       "      <td>Mark</td>\n",
       "      <td>2457</td>\n",
       "      <td>1239</td>\n",
       "      <td>NGT</td>\n",
       "      <td>OUDERWETS</td>\n",
       "      <td>NaN</td>\n",
       "      <td>OUDERWETS</td>\n",
       "      <td>OLD-FASHIONED</td>\n",
       "      <td>...</td>\n",
       "      <td>NaN</td>\n",
       "      <td>NaN</td>\n",
       "      <td>NaN</td>\n",
       "      <td>NaN</td>\n",
       "      <td>NaN</td>\n",
       "      <td>NaN</td>\n",
       "      <td>C:/Users/markw/Documents/Master Stage Videos/N...</td>\n",
       "      <td>(Weak hand: palm,)</td>\n",
       "      <td>(N,)</td>\n",
       "      <td>(N,)</td>\n",
       "    </tr>\n",
       "    <tr>\n",
       "      <th>1</th>\n",
       "      <td>1</td>\n",
       "      <td>X</td>\n",
       "      <td>Mark</td>\n",
       "      <td>366</td>\n",
       "      <td>2824</td>\n",
       "      <td>NGT</td>\n",
       "      <td>BAARD-A</td>\n",
       "      <td>NaN</td>\n",
       "      <td>BAARD-A</td>\n",
       "      <td>BEARD-A</td>\n",
       "      <td>...</td>\n",
       "      <td>NaN</td>\n",
       "      <td>NaN</td>\n",
       "      <td>variant:2825, variant:4521</td>\n",
       "      <td>NaN</td>\n",
       "      <td>NaN</td>\n",
       "      <td>NaN</td>\n",
       "      <td>C:/Users/markw/Documents/Master Stage Videos/N...</td>\n",
       "      <td>(Chin,)</td>\n",
       "      <td>(C_spread,)</td>\n",
       "      <td>(C_spread,)</td>\n",
       "    </tr>\n",
       "    <tr>\n",
       "      <th>2</th>\n",
       "      <td>2</td>\n",
       "      <td>X</td>\n",
       "      <td>Mark</td>\n",
       "      <td>625</td>\n",
       "      <td>4536</td>\n",
       "      <td>NGT</td>\n",
       "      <td>BREKEN</td>\n",
       "      <td>NaN</td>\n",
       "      <td>BREKEN-D</td>\n",
       "      <td>BREAK-D</td>\n",
       "      <td>...</td>\n",
       "      <td>NaN</td>\n",
       "      <td>NaN</td>\n",
       "      <td>NaN</td>\n",
       "      <td>NaN</td>\n",
       "      <td>project: FMU</td>\n",
       "      <td>NaN</td>\n",
       "      <td>C:/Users/markw/Documents/Master Stage Videos/N...</td>\n",
       "      <td>(Neutral space,)</td>\n",
       "      <td>(Baby_C,)</td>\n",
       "      <td>(Baby_C,)</td>\n",
       "    </tr>\n",
       "    <tr>\n",
       "      <th>3</th>\n",
       "      <td>3</td>\n",
       "      <td>X</td>\n",
       "      <td>Mark</td>\n",
       "      <td>1039</td>\n",
       "      <td>1358</td>\n",
       "      <td>NGT</td>\n",
       "      <td>EXAMEN</td>\n",
       "      <td>NaN</td>\n",
       "      <td>EXAMEN</td>\n",
       "      <td>EXAM</td>\n",
       "      <td>...</td>\n",
       "      <td>NaN</td>\n",
       "      <td>NaN</td>\n",
       "      <td>homonym:1360, homonym:1369</td>\n",
       "      <td>NaN</td>\n",
       "      <td>NaN</td>\n",
       "      <td>NaN</td>\n",
       "      <td>C:/Users/markw/Documents/Master Stage Videos/N...</td>\n",
       "      <td>(Neutral space,)</td>\n",
       "      <td>(V_curved,)</td>\n",
       "      <td>(V_curved,)</td>\n",
       "    </tr>\n",
       "    <tr>\n",
       "      <th>4</th>\n",
       "      <td>4</td>\n",
       "      <td>X</td>\n",
       "      <td>Mark</td>\n",
       "      <td>300</td>\n",
       "      <td>1398</td>\n",
       "      <td>NGT</td>\n",
       "      <td>AMSTEL-B</td>\n",
       "      <td>NaN</td>\n",
       "      <td>AMSTEL-B</td>\n",
       "      <td>AMSTEL-B</td>\n",
       "      <td>...</td>\n",
       "      <td>NaN</td>\n",
       "      <td>NaN</td>\n",
       "      <td>variant:261</td>\n",
       "      <td>NaN</td>\n",
       "      <td>NaN</td>\n",
       "      <td>NaN</td>\n",
       "      <td>C:/Users/markw/Documents/Master Stage Videos/N...</td>\n",
       "      <td>(Weak hand: palm,)</td>\n",
       "      <td>(4,)</td>\n",
       "      <td>(C,)</td>\n",
       "    </tr>\n",
       "  </tbody>\n",
       "</table>\n",
       "<p>5 rows × 73 columns</p>\n",
       "</div>"
      ],
      "text/plain": [
       "   ID is_val Person  folder_index  Signbank ID Dataset Lemma ID Gloss (Dutch)  \\\n",
       "0   0      X   Mark          2457         1239     NGT              OUDERWETS   \n",
       "1   1      X   Mark           366         2824     NGT                BAARD-A   \n",
       "2   2      X   Mark           625         4536     NGT                 BREKEN   \n",
       "3   3      X   Mark          1039         1358     NGT                 EXAMEN   \n",
       "4   4      X   Mark           300         1398     NGT               AMSTEL-B   \n",
       "\n",
       "  Lemma ID Gloss (English) Annotation ID Gloss (Dutch)  \\\n",
       "0                      NaN                   OUDERWETS   \n",
       "1                      NaN                     BAARD-A   \n",
       "2                      NaN                    BREKEN-D   \n",
       "3                      NaN                      EXAMEN   \n",
       "4                      NaN                    AMSTEL-B   \n",
       "\n",
       "  Annotation ID Gloss (English)  ... Simultaneous Morphology Blend Morphology  \\\n",
       "0                 OLD-FASHIONED  ...                     NaN              NaN   \n",
       "1                       BEARD-A  ...                     NaN              NaN   \n",
       "2                       BREAK-D  ...                     NaN              NaN   \n",
       "3                          EXAM  ...                     NaN              NaN   \n",
       "4                      AMSTEL-B  ...                     NaN              NaN   \n",
       "\n",
       "     Relations to other signs Relations to foreign signs          Tags Notes  \\\n",
       "0                         NaN                        NaN           NaN   NaN   \n",
       "1  variant:2825, variant:4521                        NaN           NaN   NaN   \n",
       "2                         NaN                        NaN  project: FMU   NaN   \n",
       "3  homonym:1360, homonym:1369                        NaN           NaN   NaN   \n",
       "4                 variant:261                        NaN           NaN   NaN   \n",
       "\n",
       "                                           file_path      Location Split  \\\n",
       "0  C:/Users/markw/Documents/Master Stage Videos/N...  (Weak hand: palm,)   \n",
       "1  C:/Users/markw/Documents/Master Stage Videos/N...             (Chin,)   \n",
       "2  C:/Users/markw/Documents/Master Stage Videos/N...    (Neutral space,)   \n",
       "3  C:/Users/markw/Documents/Master Stage Videos/N...    (Neutral space,)   \n",
       "4  C:/Users/markw/Documents/Master Stage Videos/N...  (Weak hand: palm,)   \n",
       "\n",
       "  Strong Hand Split Weak Hand Split  \n",
       "0              (N,)            (N,)  \n",
       "1       (C_spread,)     (C_spread,)  \n",
       "2         (Baby_C,)       (Baby_C,)  \n",
       "3       (V_curved,)     (V_curved,)  \n",
       "4              (4,)            (C,)  \n",
       "\n",
       "[5 rows x 73 columns]"
      ]
     },
     "metadata": {},
     "output_type": "display_data"
    }
   ],
   "source": [
    "display(train.head())"
   ]
  },
  {
   "cell_type": "code",
   "execution_count": 18,
   "id": "fb8bac40",
   "metadata": {},
   "outputs": [
    {
     "name": "stdout",
     "output_type": "stream",
     "text": [
      "<class 'pandas.core.frame.DataFrame'>\n",
      "RangeIndex: 300 entries, 0 to 299\n",
      "Data columns (total 73 columns):\n",
      " #   Column                                  Non-Null Count  Dtype  \n",
      "---  ------                                  --------------  -----  \n",
      " 0   ID                                      300 non-null    int64  \n",
      " 1   is_val                                  254 non-null    object \n",
      " 2   Person                                  254 non-null    object \n",
      " 3   folder_index                            300 non-null    int64  \n",
      " 4   Signbank ID                             300 non-null    int64  \n",
      " 5   Dataset                                 300 non-null    object \n",
      " 6   Lemma ID Gloss (Dutch)                  300 non-null    object \n",
      " 7   Lemma ID Gloss (English)                4 non-null      object \n",
      " 8   Annotation ID Gloss (Dutch)             300 non-null    object \n",
      " 9   Annotation ID Gloss (English)           300 non-null    object \n",
      " 10  Keywords (Dutch)                        298 non-null    object \n",
      " 11  Keywords (English)                      2 non-null      object \n",
      " 12  Annotation instructions                 8 non-null      object \n",
      " 13  Word class                              300 non-null    object \n",
      " 14  Handedness                              300 non-null    object \n",
      " 15  Strong Hand                             299 non-null    object \n",
      " 16  Weak Hand                               190 non-null    object \n",
      " 17  Handshape Change                        100 non-null    object \n",
      " 18  Relation between Articulators           99 non-null     object \n",
      " 19  Location                                300 non-null    object \n",
      " 20  Relative Orientation: Movement          237 non-null    object \n",
      " 21  Relative Orientation: Location          95 non-null     object \n",
      " 22  Orientation Change                      113 non-null    object \n",
      " 23  Contact Type                            163 non-null    object \n",
      " 24  Movement Shape                          89 non-null     object \n",
      " 25  Movement Direction                      224 non-null    object \n",
      " 26  Virtual Object                          5 non-null      object \n",
      " 27  Phonology Other                         16 non-null     object \n",
      " 28  Mouth Gesture                           1 non-null      object \n",
      " 29  Mouthing                                0 non-null      float64\n",
      " 30  Phonetic Variation                      47 non-null     object \n",
      " 31  Repeated Movement                       300 non-null    bool   \n",
      " 32  Alternating Movement                    300 non-null    bool   \n",
      " 33  Strong hand letter                      300 non-null    bool   \n",
      " 34  Strong hand number                      300 non-null    bool   \n",
      " 35  Weak hand letter                        300 non-null    bool   \n",
      " 36  Weak hand number                        300 non-null    bool   \n",
      " 37  Weak Drop                               300 non-null    object \n",
      " 38  Weak Prop                               300 non-null    object \n",
      " 39  Iconic Image                            4 non-null      object \n",
      " 40  Named Entity                            77 non-null     object \n",
      " 41  Semantic Field                          300 non-null    object \n",
      " 42  Valence                                 300 non-null    object \n",
      " 43  Conception Concept Set                  0 non-null      float64\n",
      " 44  Number of Occurrences                   300 non-null    int64  \n",
      " 45  Number of Signers                       300 non-null    int64  \n",
      " 46  Number of Occurrences in Amsterdam      300 non-null    int64  \n",
      " 47  Number of Amsterdam Signers             300 non-null    int64  \n",
      " 48  Number of Occurrences in Voorburg       300 non-null    int64  \n",
      " 49  Number of Voorburg Signers              300 non-null    int64  \n",
      " 50  Number of Occurrences in Rotterdam      300 non-null    int64  \n",
      " 51  Number of Rotterdam Signers             300 non-null    int64  \n",
      " 52  Number of Occurrences in Gestel         300 non-null    int64  \n",
      " 53  Number of Gestel Signers                300 non-null    int64  \n",
      " 54  Number of Occurrences in Groningen      300 non-null    int64  \n",
      " 55  Number of Groningen Signers             300 non-null    int64  \n",
      " 56  Number of Occurrences in Other Regions  300 non-null    int64  \n",
      " 57  Number of Other Region Signers          300 non-null    int64  \n",
      " 58  In the Web dictionary                   300 non-null    bool   \n",
      " 59  Is this a proposed new sign?            300 non-null    bool   \n",
      " 60  SignLanguages                           7 non-null      object \n",
      " 61  Dialects                                6 non-null      object \n",
      " 62  Sequential Morphology                   1 non-null      object \n",
      " 63  Simultaneous Morphology                 0 non-null      float64\n",
      " 64  Blend Morphology                        0 non-null      float64\n",
      " 65  Relations to other signs                182 non-null    object \n",
      " 66  Relations to foreign signs              3 non-null      object \n",
      " 67  Tags                                    55 non-null     object \n",
      " 68  Notes                                   27 non-null     object \n",
      " 69  file_path                               300 non-null    object \n",
      " 70  Location Split                          300 non-null    object \n",
      " 71  Strong Hand Split                       300 non-null    object \n",
      " 72  Weak Hand Split                         300 non-null    object \n",
      "dtypes: bool(8), float64(4), int64(17), object(44)\n",
      "memory usage: 154.8+ KB\n"
     ]
    },
    {
     "data": {
      "text/plain": [
       "None"
      ]
     },
     "metadata": {},
     "output_type": "display_data"
    }
   ],
   "source": [
    "display(train.info())"
   ]
  },
  {
   "cell_type": "code",
   "execution_count": 19,
   "id": "3343a22a",
   "metadata": {},
   "outputs": [],
   "source": [
    "def get_mean_distance_hand_shape(aa, bb):\n",
    "    # Equal sets give equal results\n",
    "    if len(aa) == len(bb) and all([a == b for a, b in zip(aa, bb)]):\n",
    "         return 0\n",
    "    \n",
    "    _sum = 0\n",
    "    _count = 0\n",
    "    for a, b in itertools.product(aa, bb):\n",
    "        _sum += get_distance_hand_shape(a, b)\n",
    "        _count += 1\n",
    "        \n",
    "    return _sum / _count\n",
    "\n",
    "def get_distance_hand_shape(a, b):\n",
    "    a_features = get_hand_shape_features(a)\n",
    "    b_features = get_hand_shape_features(b)\n",
    "    \n",
    "    if len(a_features.union(b_features)) == 0:\n",
    "        return 1\n",
    "    \n",
    "    return 1 - (len(a_features.intersection(b_features)) / len(a_features.union(b_features)))"
   ]
  },
  {
   "cell_type": "code",
   "execution_count": 20,
   "id": "b80a6a99",
   "metadata": {},
   "outputs": [],
   "source": [
    "def map_location(location):\n",
    "    res = []\n",
    "    for l in location:\n",
    "        l = str(l).lower()\n",
    "\n",
    "        # Set missing\n",
    "        if l == '-':\n",
    "            res.append('ERROR')\n",
    "        else:\n",
    "            for a, b in [('weak hand', 'wh')]:\n",
    "                l = l.replace(a, b)\n",
    "                \n",
    "            res.append(l)\n",
    "        \n",
    "    return tuple(res)\n",
    "\n",
    "def map_movement(movement):\n",
    "    movement = str(movement).lower()\n",
    "    \n",
    "    # Map variations\n",
    "    mappings = {\n",
    "        'up and down': 'upwards and downwards',\n",
    "    }\n",
    "    \n",
    "    if movement in mappings:\n",
    "        movement = mappings[movement]\n",
    "    \n",
    "    for a, b in [('-', 'none'), ('-', 'none'), ('nan', 'none'), ('>', 'and'), ('+', 'and'), ('/', ' and ')]:\n",
    "        movement = movement.replace(a, b)\n",
    "    \n",
    "    return movement"
   ]
  },
  {
   "cell_type": "code",
   "execution_count": 21,
   "id": "c94af308",
   "metadata": {},
   "outputs": [],
   "source": [
    "def map_hand_shape_split(hand_shape_split):\n",
    "    res = []\n",
    "    for hand_shape in hand_shape_split:\n",
    "        res.append(map_hand_shape(hand_shape))\n",
    "    \n",
    "    return res\n",
    "\n",
    "def map_hand_shape(hand_shape):\n",
    "    hand_shape = str(hand_shape)\n",
    "    \n",
    "    # Full match replacements\n",
    "    mappings = [\n",
    "        ('Beak', 'CB'), ('Baby_beak_open', 'bOB'), ('Baby_beak', 'bCB'),\n",
    "        ('T_open', 'open-T'), ('Beak2', 'bCB2')\n",
    "    ]\n",
    "    \n",
    "    for a, b in mappings:\n",
    "        if hand_shape.lower() == a.lower():\n",
    "            return b\n",
    "    \n",
    "    # String Replacements\n",
    "    replacements = [\n",
    "        ('_spread', '-spr'), ('Baby_', 'b'), ('_curved', '-claw'), ('bO', 'b0'),\n",
    "        ('Money', 'bCB”'), ('5r', '5R'), ('5m', '5M'), ('Middle finger', 'OTHER'),\n",
    "        ('B_bent', 'B^'), ('Other', 'OTHER'),\n",
    "    ]\n",
    "    \n",
    "    for a, b in replacements:\n",
    "        hand_shape = hand_shape.replace(a, b)\n",
    "        \n",
    "    # 2nd replace iteration\n",
    "    for (a, b) in [('B-claw', 'bC'), ('1-claw', 'X1'), ('Beak_open', 'OB'), ('C2-spr', 'bC2-spr')]:\n",
    "        hand_shape = hand_shape.replace(a, b)\n",
    "        \n",
    "    return hand_shape"
   ]
  },
  {
   "cell_type": "code",
   "execution_count": 54,
   "id": "f65a0219",
   "metadata": {
    "scrolled": false
   },
   "outputs": [
    {
     "data": {
      "application/vnd.jupyter.widget-view+json": {
       "model_id": "7c12804037ef4559bdf1b721be2f016c",
       "version_major": 2,
       "version_minor": 0
      },
      "text/plain": [
       "  0%|          | 0/300 [00:00<?, ?it/s]"
      ]
     },
     "metadata": {},
     "output_type": "display_data"
    },
    {
     "name": "stdout",
     "output_type": "stream",
     "text": [
      "row_idx: 0\n",
      "('wh: thumb side',) ('wh: thumb side',)\n",
      "('wh: thumb side',) ('wh: back',)\n",
      "row_idx: 1\n",
      "('wh: back',) ('wh: thumb side',)\n",
      "('wh: back',) ('wh: back',)\n"
     ]
    }
   ],
   "source": [
    "def get_distance_matrix(df, debug=False):\n",
    "    res = np.empty(shape=[len(df), len(df)], dtype=np.float32)\n",
    "    res_detailed = np.empty(shape=[len(df), len(df), 5], dtype=np.float32)\n",
    "    c = 0\n",
    "    \n",
    "    for row_idx, row in tqdm(df.iterrows(), total=len(train)):\n",
    "        print(f'row_idx: {row_idx}')\n",
    "        location = map_location(row['Location Split'])\n",
    "        movement = map_movement(row['Movement Direction'])\n",
    "        handedness = row['Handedness']\n",
    "        strong_hand = map_hand_shape_split(row['Strong Hand Split'])\n",
    "        weak_hand = map_hand_shape_split(row['Weak Hand Split'])\n",
    "        for row_other_idx, row_other in df.iterrows():\n",
    "            location_other = map_location(row_other['Location Split'])\n",
    "            movement_other = map_movement(row_other['Movement Direction'])\n",
    "            handedness_other = row_other['Handedness']\n",
    "            strong_hand_other = map_hand_shape_split(row_other['Strong Hand Split'])\n",
    "            weak_hand_other = map_hand_shape_split(row_other['Weak Hand Split'])\n",
    "            # Location Distance\n",
    "            try:\n",
    "                print(location, location_other)\n",
    "                location_distance = get_mean_distance(location, location_other, LOCATION_TREE_PATHS, normalize=LOCATIONS_MAX_PATH_LEN)\n",
    "            except:\n",
    "                location_distance = -1\n",
    "                if debug:\n",
    "                    print(f'LOCATION | \"{location}\"', f'\"{location_other}\"', c, row_other_idx)\n",
    "                    c += 1\n",
    "\n",
    "            # Movement Distance\n",
    "            try:\n",
    "                movement_distance = get_distance(movement, movement_other, MOVEMENT_TREE_PATHS, normalize=MOVEMENTS_MAX_PATH_LEN)\n",
    "            except:\n",
    "                movement_distance = -1\n",
    "                if debug:\n",
    "                    print(f'MOVEMENT | \"{movement}\"', f'\"{movement_other}\"', c, row_other_idx)\n",
    "                    c += 1\n",
    "                    \n",
    "            # Handedness Distance\n",
    "            try:\n",
    "                handedness_distance = get_distance(handedness, handedness_other, HANDEDNESS_TREE_PATHS, normalize=HANDEDNESS_MAX_PATH_LEN)\n",
    "            except:\n",
    "                handedness_distance = -1\n",
    "                if debug:\n",
    "                    print(f'HANDEDNESS | \"{handedness}\"', f'\"{handedness_other}\"', c, row_other_idx)\n",
    "                    c += 1\n",
    "                    \n",
    "            # Strong Hand\n",
    "            try:\n",
    "                strong_hand_distance = get_mean_distance_hand_shape(strong_hand, strong_hand_other)\n",
    "            except:\n",
    "                strong_hand_distance = -1\n",
    "                if debug:\n",
    "                    print(f'STRONG HAND | \"{strong_hand}\"', f'\"{strong_hand_other}\"', c, row_other_idx)\n",
    "                    c += 1\n",
    "                    \n",
    "            # Weak Hand\n",
    "            try:\n",
    "                weak_hand_distance = get_mean_distance_hand_shape(weak_hand, weak_hand_other)\n",
    "            except:\n",
    "                weak_hand_distance = -1\n",
    "                if debug:\n",
    "                    print(f'WEAK HAND | \"{weak_hand}\"', f'\"{weak_hand}\"', c, row_other_idx)\n",
    "                    c += 1\n",
    "                \n",
    "            if any([i == -1 for i in [location_distance, movement_distance, handedness_distance, strong_hand_distance, weak_hand_distance]]):\n",
    "                print('Error')\n",
    "                res[row_idx, row_other_idx] = np.inf\n",
    "            else:\n",
    "                if debug:\n",
    "                    print(f'location_distance: {location_distance:.2f}, movement_distance: {movement_distance:.2f}, handedness_distance: {handedness_distance:.2f}, '\n",
    "                          f' strong_hand_distance: {strong_hand_distance:.2f}, weak_hand_distance: {weak_hand_distance:.2f}')\n",
    "\n",
    "                res[row_idx, row_other_idx] = 0.30 * handedness_distance + 0.25 * location_distance + 0.25 * movement_distance + 0.10 * strong_hand_distance + 0.10 * weak_hand_distance\n",
    "                res_detailed[row_idx, row_other_idx] = handedness_distance, location_distance, movement_distance, strong_hand_distance, weak_hand_distance\n",
    "                \n",
    "                # Sanity check, distance can't be smaller than 0 or greater than 1\n",
    "                if any([i > 1 or i < 0 for i in [location_distance, movement_distance, handedness_distance, strong_hand_distance, weak_hand_distance]]):\n",
    "                    print(f'location_distance: {location_distance:.2f}, movement_distance: {movement_distance:.2f}, handedness_distance: {handedness_distance:.2f}, '\n",
    "                          f' strong_hand_distance: {strong_hand_distance:.2f}, weak_hand_distance: {weak_hand_distance:.2f}')\n",
    "                    \n",
    "        if debug:\n",
    "            break\n",
    "    \n",
    "    return res, res_detailed\n",
    "                \n",
    "train_distance_matrix, train_distance_matrix_detailed = get_distance_matrix(abc, debug=False)"
   ]
  },
  {
   "cell_type": "code",
   "execution_count": 31,
   "id": "8f0a31c5",
   "metadata": {},
   "outputs": [],
   "source": [
    "abc = pd.read_pickle('train_ngt_dxy_10fps.pkl')"
   ]
  },
  {
   "cell_type": "code",
   "execution_count": 56,
   "id": "480fa54c",
   "metadata": {},
   "outputs": [
    {
     "data": {
      "text/plain": [
       "array([[[0.  , 0.  , 0.  , 0.  , 0.  ],\n",
       "        [0.  , 0.22, 0.  , 1.  , 1.  ]],\n",
       "\n",
       "       [[0.  , 0.22, 0.  , 1.  , 1.  ],\n",
       "        [0.  , 0.  , 0.  , 0.  , 0.  ]]], dtype=float32)"
      ]
     },
     "execution_count": 56,
     "metadata": {},
     "output_type": "execute_result"
    }
   ],
   "source": [
    "train_distance_matrix_detailed.round(2)"
   ]
  },
  {
   "cell_type": "code",
   "execution_count": 39,
   "id": "5011ddb6",
   "metadata": {},
   "outputs": [
    {
     "data": {
      "text/html": [
       "<div>\n",
       "<style scoped>\n",
       "    .dataframe tbody tr th:only-of-type {\n",
       "        vertical-align: middle;\n",
       "    }\n",
       "\n",
       "    .dataframe tbody tr th {\n",
       "        vertical-align: top;\n",
       "    }\n",
       "\n",
       "    .dataframe thead th {\n",
       "        text-align: right;\n",
       "    }\n",
       "</style>\n",
       "<table border=\"1\" class=\"dataframe\">\n",
       "  <thead>\n",
       "    <tr style=\"text-align: right;\">\n",
       "      <th></th>\n",
       "      <th>file_path</th>\n",
       "      <th>file_name</th>\n",
       "      <th>sign_names</th>\n",
       "      <th>label</th>\n",
       "      <th>is_studio</th>\n",
       "      <th>frame_count</th>\n",
       "      <th>folder_index</th>\n",
       "      <th>Signbank ID</th>\n",
       "      <th>left_dx_rolling1_10fps</th>\n",
       "      <th>left_dy_rolling1_10fps</th>\n",
       "      <th>...</th>\n",
       "      <th>right_dx_rolling4_10fps</th>\n",
       "      <th>right_dy_rolling4_10fps</th>\n",
       "      <th>left_dx_rolling5_10fps</th>\n",
       "      <th>left_dy_rolling5_10fps</th>\n",
       "      <th>right_dx_rolling5_10fps</th>\n",
       "      <th>right_dy_rolling5_10fps</th>\n",
       "      <th>Handedness</th>\n",
       "      <th>HandednessNorm</th>\n",
       "      <th>Handedness Predicted</th>\n",
       "      <th>keyframe_idxs</th>\n",
       "    </tr>\n",
       "  </thead>\n",
       "  <tbody>\n",
       "    <tr>\n",
       "      <th>0</th>\n",
       "      <td>C:/Users/markw/Documents/Master Stage Videos/N...</td>\n",
       "      <td>GRIJS-B-2047.mp4</td>\n",
       "      <td>GRIJS-B</td>\n",
       "      <td>1261</td>\n",
       "      <td>True</td>\n",
       "      <td>40</td>\n",
       "      <td>1277</td>\n",
       "      <td>2047</td>\n",
       "      <td>(0.0, 6.028900146484375, 12.958786010742188, 3...</td>\n",
       "      <td>(0.0, -30.025421142578125, -31.940948486328125...</td>\n",
       "      <td>...</td>\n",
       "      <td>(0.0, -3.4742698669433594, -5.004915873209636,...</td>\n",
       "      <td>(0.0, -14.511947631835938, -20.674758911132812...</td>\n",
       "      <td>(0.0, 3.0144500732421875, 6.3292287190755205, ...</td>\n",
       "      <td>(0.0, -15.012710571289062, -20.65545654296875,...</td>\n",
       "      <td>(0.0, -3.4742698669433594, -5.004915873209636,...</td>\n",
       "      <td>(0.0, -14.511947631835938, -20.674758911132812...</td>\n",
       "      <td>2a</td>\n",
       "      <td>2.0</td>\n",
       "      <td>True</td>\n",
       "      <td>(4, 16, 28, 40)</td>\n",
       "    </tr>\n",
       "    <tr>\n",
       "      <th>1</th>\n",
       "      <td>C:/Users/markw/Documents/Master Stage Videos/N...</td>\n",
       "      <td>GROEN-2048.mp4</td>\n",
       "      <td>GROEN</td>\n",
       "      <td>1265</td>\n",
       "      <td>True</td>\n",
       "      <td>34</td>\n",
       "      <td>1281</td>\n",
       "      <td>2048</td>\n",
       "      <td>(0.0, 0.0243072509765625, -1.024688720703125, ...</td>\n",
       "      <td>(0.0, -1.0111083984375, -2.01129150390625, -23...</td>\n",
       "      <td>...</td>\n",
       "      <td>(0.0, 1.5037612915039062, 4.6633656819661455, ...</td>\n",
       "      <td>(0.0, 1.50555419921875, 3.329833984375, -5.240...</td>\n",
       "      <td>(0.0, 0.01215362548828125, -0.3334604899088542...</td>\n",
       "      <td>(0.0, -0.50555419921875, -1.0074666341145833, ...</td>\n",
       "      <td>(0.0, 1.5037612915039062, 4.6633656819661455, ...</td>\n",
       "      <td>(0.0, 1.50555419921875, 3.329833984375, -5.240...</td>\n",
       "      <td>2a</td>\n",
       "      <td>2.0</td>\n",
       "      <td>True</td>\n",
       "      <td>(4, 14, 24, 34)</td>\n",
       "    </tr>\n",
       "  </tbody>\n",
       "</table>\n",
       "<p>2 rows × 32 columns</p>\n",
       "</div>"
      ],
      "text/plain": [
       "                                           file_path         file_name  \\\n",
       "0  C:/Users/markw/Documents/Master Stage Videos/N...  GRIJS-B-2047.mp4   \n",
       "1  C:/Users/markw/Documents/Master Stage Videos/N...    GROEN-2048.mp4   \n",
       "\n",
       "  sign_names  label  is_studio  frame_count  folder_index  Signbank ID  \\\n",
       "0    GRIJS-B   1261       True           40          1277         2047   \n",
       "1      GROEN   1265       True           34          1281         2048   \n",
       "\n",
       "                              left_dx_rolling1_10fps  \\\n",
       "0  (0.0, 6.028900146484375, 12.958786010742188, 3...   \n",
       "1  (0.0, 0.0243072509765625, -1.024688720703125, ...   \n",
       "\n",
       "                              left_dy_rolling1_10fps  ...  \\\n",
       "0  (0.0, -30.025421142578125, -31.940948486328125...  ...   \n",
       "1  (0.0, -1.0111083984375, -2.01129150390625, -23...  ...   \n",
       "\n",
       "                             right_dx_rolling4_10fps  \\\n",
       "0  (0.0, -3.4742698669433594, -5.004915873209636,...   \n",
       "1  (0.0, 1.5037612915039062, 4.6633656819661455, ...   \n",
       "\n",
       "                             right_dy_rolling4_10fps  \\\n",
       "0  (0.0, -14.511947631835938, -20.674758911132812...   \n",
       "1  (0.0, 1.50555419921875, 3.329833984375, -5.240...   \n",
       "\n",
       "                              left_dx_rolling5_10fps  \\\n",
       "0  (0.0, 3.0144500732421875, 6.3292287190755205, ...   \n",
       "1  (0.0, 0.01215362548828125, -0.3334604899088542...   \n",
       "\n",
       "                              left_dy_rolling5_10fps  \\\n",
       "0  (0.0, -15.012710571289062, -20.65545654296875,...   \n",
       "1  (0.0, -0.50555419921875, -1.0074666341145833, ...   \n",
       "\n",
       "                             right_dx_rolling5_10fps  \\\n",
       "0  (0.0, -3.4742698669433594, -5.004915873209636,...   \n",
       "1  (0.0, 1.5037612915039062, 4.6633656819661455, ...   \n",
       "\n",
       "                             right_dy_rolling5_10fps Handedness  \\\n",
       "0  (0.0, -14.511947631835938, -20.674758911132812...         2a   \n",
       "1  (0.0, 1.50555419921875, 3.329833984375, -5.240...         2a   \n",
       "\n",
       "  HandednessNorm Handedness Predicted    keyframe_idxs  \n",
       "0            2.0                 True  (4, 16, 28, 40)  \n",
       "1            2.0                 True  (4, 14, 24, 34)  \n",
       "\n",
       "[2 rows x 32 columns]"
      ]
     },
     "metadata": {},
     "output_type": "display_data"
    }
   ],
   "source": [
    "abc = abc[(abc['sign_names']=='GROEN') | (abc['sign_names']=='GRIJS-B')].reset_index(drop=True)\n",
    "display(abc.head())"
   ]
  },
  {
   "cell_type": "code",
   "execution_count": 45,
   "id": "7b706571",
   "metadata": {},
   "outputs": [],
   "source": [
    "abc['Location'] = ['Weak hand: thumb side', 'Weak hand: back']\n",
    "abc['Strong Hand'] = ['1', 'N']\n",
    "abc['Weak Hand'] = ['1', 'N']\n",
    "abc['Movement Direction'] = ['To and fro', 'To and fro']\n",
    "\n",
    "# Strong Hand\n",
    "abc['Location Split'] = abc['Location'].apply(lambda e: tuple(re.split(' > | \\+ ', str(e))))\n",
    "abc['Strong Hand Split'] = abc['Strong Hand'].apply(lambda e: tuple(re.split(' > | \\+ ', str(e))))\n",
    "abc['Weak Hand Split'] = abc['Weak Hand'].apply(lambda e: tuple(re.split(' > | \\+ ', str(e))))"
   ]
  },
  {
   "cell_type": "code",
   "execution_count": 28,
   "id": "495aa3ee",
   "metadata": {},
   "outputs": [],
   "source": [
    "def print_distances(distances):\n",
    "    print(f'Handedness Distance: {distances[0]:.2f}, Location Distance: {distances[1]:.2f}, Movement Distance: {distances[2]:.2f}, Strong Hand Distance: {distances[3]:.2f}')"
   ]
  },
  {
   "cell_type": "code",
   "execution_count": 78,
   "id": "22d39e93",
   "metadata": {},
   "outputs": [],
   "source": [
    "abc = pd.read_excel('ngt_signbank.xlsx')"
   ]
  },
  {
   "cell_type": "code",
   "execution_count": 79,
   "id": "6a432cfe",
   "metadata": {},
   "outputs": [
    {
     "name": "stdout",
     "output_type": "stream",
     "text": [
      "<class 'pandas.core.frame.DataFrame'>\n",
      "RangeIndex: 4157 entries, 0 to 4156\n",
      "Columns: 65 entries, Signbank ID to Notes\n",
      "dtypes: bool(8), float64(2), int64(15), object(40)\n",
      "memory usage: 1.8+ MB\n"
     ]
    }
   ],
   "source": [
    "abc.info(max_cols=0)"
   ]
  },
  {
   "cell_type": "code",
   "execution_count": 80,
   "id": "7c472bc9",
   "metadata": {},
   "outputs": [
    {
     "data": {
      "text/plain": [
       "-                           1196\n",
       "Supination                   140\n",
       "Flexion                       93\n",
       "Rotation                      91\n",
       "Pronation                     62\n",
       "Ulnar flexion                 46\n",
       "Extension                     40\n",
       "Radial flexion                24\n",
       "Radial and ulnar flexion      20\n",
       "Pronation/supination          14\n",
       "Extension/flexion              4\n",
       "Extension > flexion            3\n",
       "Name: Orientation Change, dtype: int64"
      ]
     },
     "execution_count": 80,
     "metadata": {},
     "output_type": "execute_result"
    }
   ],
   "source": [
    "# pd.DataFrame(abc['Orientation Change']).info()\n",
    "abc['Orientation Change'].value_counts()"
   ]
  },
  {
   "cell_type": "code",
   "execution_count": 26,
   "id": "6509b03a",
   "metadata": {},
   "outputs": [
    {
     "data": {
      "text/html": [
       "<div>\n",
       "<style scoped>\n",
       "    .dataframe tbody tr th:only-of-type {\n",
       "        vertical-align: middle;\n",
       "    }\n",
       "\n",
       "    .dataframe tbody tr th {\n",
       "        vertical-align: top;\n",
       "    }\n",
       "\n",
       "    .dataframe thead th {\n",
       "        text-align: right;\n",
       "    }\n",
       "</style>\n",
       "<table border=\"1\" class=\"dataframe\">\n",
       "  <thead>\n",
       "    <tr style=\"text-align: right;\">\n",
       "      <th></th>\n",
       "      <th>ID</th>\n",
       "      <th>is_val</th>\n",
       "      <th>Person</th>\n",
       "      <th>folder_index</th>\n",
       "      <th>Signbank ID</th>\n",
       "      <th>Dataset</th>\n",
       "      <th>Lemma ID Gloss (Dutch)</th>\n",
       "      <th>Lemma ID Gloss (English)</th>\n",
       "      <th>Annotation ID Gloss (Dutch)</th>\n",
       "      <th>Annotation ID Gloss (English)</th>\n",
       "      <th>...</th>\n",
       "      <th>Simultaneous Morphology</th>\n",
       "      <th>Blend Morphology</th>\n",
       "      <th>Relations to other signs</th>\n",
       "      <th>Relations to foreign signs</th>\n",
       "      <th>Tags</th>\n",
       "      <th>Notes</th>\n",
       "      <th>file_path</th>\n",
       "      <th>Location Split</th>\n",
       "      <th>Strong Hand Split</th>\n",
       "      <th>Weak Hand Split</th>\n",
       "    </tr>\n",
       "  </thead>\n",
       "  <tbody>\n",
       "    <tr>\n",
       "      <th>92</th>\n",
       "      <td>92</td>\n",
       "      <td>X</td>\n",
       "      <td>Mark-Bank</td>\n",
       "      <td>2535</td>\n",
       "      <td>581</td>\n",
       "      <td>NGT</td>\n",
       "      <td>PENSIOEN-B</td>\n",
       "      <td>NaN</td>\n",
       "      <td>PENSIOEN-B</td>\n",
       "      <td>RETIREMENT-B</td>\n",
       "      <td>...</td>\n",
       "      <td>NaN</td>\n",
       "      <td>NaN</td>\n",
       "      <td>variant:580</td>\n",
       "      <td>NaN</td>\n",
       "      <td>NaN</td>\n",
       "      <td>NaN</td>\n",
       "      <td>C:/Users/markw/Documents/Master Stage Videos/N...</td>\n",
       "      <td>(Weak hand: back,)</td>\n",
       "      <td>(B,)</td>\n",
       "      <td>(B,)</td>\n",
       "    </tr>\n",
       "  </tbody>\n",
       "</table>\n",
       "<p>1 rows × 73 columns</p>\n",
       "</div>"
      ],
      "text/plain": [
       "    ID is_val     Person  folder_index  Signbank ID Dataset  \\\n",
       "92  92      X  Mark-Bank          2535          581     NGT   \n",
       "\n",
       "   Lemma ID Gloss (Dutch) Lemma ID Gloss (English)  \\\n",
       "92             PENSIOEN-B                      NaN   \n",
       "\n",
       "   Annotation ID Gloss (Dutch) Annotation ID Gloss (English)  ...  \\\n",
       "92                  PENSIOEN-B                  RETIREMENT-B  ...   \n",
       "\n",
       "   Simultaneous Morphology Blend Morphology Relations to other signs  \\\n",
       "92                     NaN              NaN              variant:580   \n",
       "\n",
       "   Relations to foreign signs Tags Notes  \\\n",
       "92                        NaN  NaN   NaN   \n",
       "\n",
       "                                            file_path      Location Split  \\\n",
       "92  C:/Users/markw/Documents/Master Stage Videos/N...  (Weak hand: back,)   \n",
       "\n",
       "   Strong Hand Split Weak Hand Split  \n",
       "92              (B,)            (B,)  \n",
       "\n",
       "[1 rows x 73 columns]"
      ]
     },
     "execution_count": 26,
     "metadata": {},
     "output_type": "execute_result"
    }
   ],
   "source": [
    "train.loc[train['Annotation ID Gloss (Dutch)'] == 'PENSIOEN-B']"
   ]
  },
  {
   "cell_type": "code",
   "execution_count": 29,
   "id": "296681a6",
   "metadata": {
    "scrolled": false
   },
   "outputs": [
    {
     "name": "stdout",
     "output_type": "stream",
     "text": [
      "row_idx: 92\n",
      "=========================  ORIGINAL  =========================\n",
      "\n",
      "Sign: PENSIOEN-B, Location: Weak hand: back, Movement Direction: Downwards, Handedness: 2a, Strong Hand: B\n",
      "\n"
     ]
    },
    {
     "data": {
      "application/vnd.jupyter.widget-view+json": {
       "model_id": "bfd440699aa2418fa67dbcbeec3bb9e9",
       "version_major": 2,
       "version_minor": 0
      },
      "text/plain": [
       "Video(value=b'\\x00\\x00\\x00\\x1cftypmp42\\x00\\x00\\x00\\x01isommp41avc1\\x00\\x00\\x0c\\xb8moov\\x00\\x00\\x00*iods\\x00\\x0…"
      ]
     },
     "metadata": {},
     "output_type": "display_data"
    },
    {
     "name": "stdout",
     "output_type": "stream",
     "text": [
      "=========================  ORIGINAL  =========================\n",
      "\n",
      "Sign: PENSIOEN-B, Location: Weak hand: back, Movement Direction: Downwards, Handedness: 2a, Strong Hand: B, Distance: 0.00\n",
      "    \n",
      "Handedness Distance: 0.00, Location Distance: 0.00, Movement Distance: 0.00, Strong Hand Distance: 0.00\n"
     ]
    },
    {
     "data": {
      "application/vnd.jupyter.widget-view+json": {
       "model_id": "2b2d7ba1a56f4582803c4e53306c6330",
       "version_major": 2,
       "version_minor": 0
      },
      "text/plain": [
       "Video(value=b'\\x00\\x00\\x00\\x1cftypmp42\\x00\\x00\\x00\\x01isommp41avc1\\x00\\x00\\x0c\\xb8moov\\x00\\x00\\x00*iods\\x00\\x0…"
      ]
     },
     "metadata": {},
     "output_type": "display_data"
    },
    {
     "name": "stdout",
     "output_type": "stream",
     "text": [
      "==================================================\n",
      "\n",
      "Sign: PRINCIPE, Location: Weak hand: palm, Movement Direction: Downwards, Handedness: 2a, Strong Hand: B_bent, Distance: 0.06\n",
      "    \n",
      "Handedness Distance: 0.00, Location Distance: 0.22, Movement Distance: 0.00, Strong Hand Distance: 0.00\n"
     ]
    },
    {
     "data": {
      "application/vnd.jupyter.widget-view+json": {
       "model_id": "95138c361ec74dbe9d096970ab463b55",
       "version_major": 2,
       "version_minor": 0
      },
      "text/plain": [
       "Video(value=b'\\x00\\x00\\x00\\x1cftypmp42\\x00\\x00\\x00\\x01isommp41avc1\\x00\\x00\\x0b^moov\\x00\\x00\\x00*iods\\x00\\x00\\x…"
      ]
     },
     "metadata": {},
     "output_type": "display_data"
    },
    {
     "name": "stdout",
     "output_type": "stream",
     "text": [
      "==================================================\n",
      "\n",
      "Sign: PLAKKEN-A, Location: Weak hand: palm, Movement Direction: Downwards, Handedness: 2a, Strong Hand: B, Distance: 0.06\n",
      "    \n",
      "Handedness Distance: 0.00, Location Distance: 0.22, Movement Distance: 0.00, Strong Hand Distance: 0.00\n"
     ]
    },
    {
     "data": {
      "application/vnd.jupyter.widget-view+json": {
       "model_id": "290aaa942f384018bfc717180837a2ba",
       "version_major": 2,
       "version_minor": 0
      },
      "text/plain": [
       "Video(value=b'\\x00\\x00\\x00\\x1cftypmp42\\x00\\x00\\x00\\x01isommp41avc1\\x00\\x00\\x0cpmoov\\x00\\x00\\x00*iods\\x00\\x00\\x…"
      ]
     },
     "metadata": {},
     "output_type": "display_data"
    },
    {
     "name": "stdout",
     "output_type": "stream",
     "text": [
      "==================================================\n",
      "\n",
      "Sign: LIJST-C, Location: Weak hand: palm, Movement Direction: Downwards, Handedness: 2a, Strong Hand: B, Distance: 0.06\n",
      "    \n",
      "Handedness Distance: 0.00, Location Distance: 0.22, Movement Distance: 0.00, Strong Hand Distance: 0.00\n"
     ]
    },
    {
     "data": {
      "application/vnd.jupyter.widget-view+json": {
       "model_id": "f8e6e1efb115458d8bae7f4292ea3d39",
       "version_major": 2,
       "version_minor": 0
      },
      "text/plain": [
       "Video(value=b'\\x00\\x00\\x00\\x1cftypmp42\\x00\\x00\\x00\\x01isommp41avc1\\x00\\x00\\x0cumoov\\x00\\x00\\x00*iods\\x00\\x00\\x…"
      ]
     },
     "metadata": {},
     "output_type": "display_data"
    },
    {
     "name": "stdout",
     "output_type": "stream",
     "text": [
      "==================================================\n",
      "\n",
      "Sign: MAAND-D, Location: Weak hand: palm, Movement Direction: Downwards, Handedness: 2a, Strong Hand: Baby_C, Distance: 0.16\n",
      "    \n",
      "Handedness Distance: 0.00, Location Distance: 0.22, Movement Distance: 0.00, Strong Hand Distance: 1.00\n"
     ]
    },
    {
     "data": {
      "application/vnd.jupyter.widget-view+json": {
       "model_id": "d30756ab26674e04b573733075364c8d",
       "version_major": 2,
       "version_minor": 0
      },
      "text/plain": [
       "Video(value=b'\\x00\\x00\\x00\\x1cftypmp42\\x00\\x00\\x00\\x01isommp41avc1\\x00\\x00\\x0b\\tmoov\\x00\\x00\\x00*iods\\x00\\x00\\…"
      ]
     },
     "metadata": {},
     "output_type": "display_data"
    },
    {
     "name": "stdout",
     "output_type": "stream",
     "text": [
      "==================================================\n",
      "\n",
      "Sign: ENZOVOORTS-C, Location: Weak hand: finger tips, Movement Direction: Downwards, Handedness: 2a, Strong Hand: 4, Distance: 0.16\n",
      "    \n",
      "Handedness Distance: 0.00, Location Distance: 0.22, Movement Distance: 0.00, Strong Hand Distance: 0.50\n"
     ]
    },
    {
     "data": {
      "application/vnd.jupyter.widget-view+json": {
       "model_id": "9231f294838e48569663e22c62c17c8b",
       "version_major": 2,
       "version_minor": 0
      },
      "text/plain": [
       "Video(value=b'\\x00\\x00\\x00\\x1cftypmp42\\x00\\x00\\x00\\x01isommp41avc1\\x00\\x00\\x0c\\xffmoov\\x00\\x00\\x00*iods\\x00\\x0…"
      ]
     },
     "metadata": {},
     "output_type": "display_data"
    },
    {
     "name": "stdout",
     "output_type": "stream",
     "text": [
      "==================================================\n",
      "\n",
      "Sign: DEUR-A, Location: Weak hand: back, Movement Direction: nan, Handedness: 2a, Strong Hand: B, Distance: 0.21\n",
      "    \n",
      "Handedness Distance: 0.00, Location Distance: 0.00, Movement Distance: 0.86, Strong Hand Distance: 0.00\n"
     ]
    },
    {
     "data": {
      "application/vnd.jupyter.widget-view+json": {
       "model_id": "b749b99433b44a87b26168411924c82c",
       "version_major": 2,
       "version_minor": 0
      },
      "text/plain": [
       "Video(value=b'\\x00\\x00\\x00\\x1cftypmp42\\x00\\x00\\x00\\x01isommp41avc1\\x00\\x00\\x0ctmoov\\x00\\x00\\x00*iods\\x00\\x00\\x…"
      ]
     },
     "metadata": {},
     "output_type": "display_data"
    },
    {
     "name": "stdout",
     "output_type": "stream",
     "text": [
      "==================================================\n",
      "\n",
      "Sign: AMSTEL-B, Location: Weak hand: palm, Movement Direction: Upwards, Handedness: 2a, Strong Hand: 4, Distance: 0.24\n",
      "    \n",
      "Handedness Distance: 0.00, Location Distance: 0.22, Movement Distance: 0.29, Strong Hand Distance: 0.50\n"
     ]
    },
    {
     "data": {
      "application/vnd.jupyter.widget-view+json": {
       "model_id": "adcf299e06b34e9c85a2d437fa717c36",
       "version_major": 2,
       "version_minor": 0
      },
      "text/plain": [
       "Video(value=b'\\x00\\x00\\x00\\x1cftypmp42\\x00\\x00\\x00\\x01isommp41avc1\\x00\\x00\\x0c\\x94moov\\x00\\x00\\x00*iods\\x00\\x0…"
      ]
     },
     "metadata": {},
     "output_type": "display_data"
    },
    {
     "name": "stdout",
     "output_type": "stream",
     "text": [
      "==================================================\n",
      "\n",
      "Sign: OUDERWETS, Location: Weak hand: palm, Movement Direction: Downwards, Handedness: 2a, Strong Hand: N, Distance: 0.26\n",
      "    \n",
      "Handedness Distance: 0.00, Location Distance: 0.22, Movement Distance: 0.00, Strong Hand Distance: 1.00\n"
     ]
    },
    {
     "data": {
      "application/vnd.jupyter.widget-view+json": {
       "model_id": "c5922f885cee4d36977a36a60f04101c",
       "version_major": 2,
       "version_minor": 0
      },
      "text/plain": [
       "Video(value=b'\\x00\\x00\\x00\\x1cftypmp42\\x00\\x00\\x00\\x01isommp41avc1\\x00\\x00\\x0c\\x94moov\\x00\\x00\\x00*iods\\x00\\x0…"
      ]
     },
     "metadata": {},
     "output_type": "display_data"
    },
    {
     "name": "stdout",
     "output_type": "stream",
     "text": [
      "==================================================\n",
      "\n",
      "Sign: REKENING-HOUDEN-MET, Location: Weak hand: thumb side, Movement Direction: Downwards, Handedness: 2a, Strong Hand: V, Distance: 0.26\n",
      "    \n",
      "Handedness Distance: 0.00, Location Distance: 0.22, Movement Distance: 0.00, Strong Hand Distance: 1.00\n"
     ]
    },
    {
     "data": {
      "application/vnd.jupyter.widget-view+json": {
       "model_id": "b9dce8f61b8043fab462f6b17ae69196",
       "version_major": 2,
       "version_minor": 0
      },
      "text/plain": [
       "Video(value=b'\\x00\\x00\\x00\\x1cftypmp42\\x00\\x00\\x00\\x01isommp41avc1\\x00\\x00\\x0b\\x98moov\\x00\\x00\\x00*iods\\x00\\x0…"
      ]
     },
     "metadata": {},
     "output_type": "display_data"
    },
    {
     "name": "stdout",
     "output_type": "stream",
     "text": [
      "==================================================\n"
     ]
    }
   ],
   "source": [
    "row_idx = np.random.randint(len(train))\n",
    "row_idx = 92\n",
    "print(f'row_idx: {row_idx}')\n",
    "idxs = np.argsort(train_distance_matrix[row_idx])\n",
    "\n",
    "print('=' * 25, ' ORIGINAL ', '='* 25)\n",
    "sign = train.loc[row_idx, 'Lemma ID Gloss (Dutch)']\n",
    "location = train.loc[row_idx, 'Location']\n",
    "movement_direction = train.loc[row_idx, 'Movement Direction']\n",
    "handedness = train.loc[row_idx, 'Handedness']\n",
    "strong_hand = train.loc[row_idx, 'Strong Hand']\n",
    "print(f'''\n",
    "Sign: {sign}, Location: {location}, Movement Direction: {movement_direction}, \\\n",
    "Handedness: {handedness}, Strong Hand: {strong_hand}\n",
    "''')\n",
    "display(Video.from_file(train.loc[row_idx, 'file_path']))\n",
    "print('=' * 25, ' ORIGINAL ', '='* 25)\n",
    "\n",
    "for sort_idx, (idx, row) in enumerate(train.loc[idxs[:10]].iterrows()):\n",
    "    sign = row['Lemma ID Gloss (Dutch)']\n",
    "    location = row['Location']\n",
    "    movement_direction = row['Movement Direction']\n",
    "    handedness = row['Handedness']\n",
    "    strong_hand = row['Strong Hand']\n",
    "    distance = train_distance_matrix[row_idx, idxs[sort_idx]]\n",
    "    print(f'''\n",
    "Sign: {sign}, Location: {location}, Movement Direction: {movement_direction}, \\\n",
    "Handedness: {handedness}, Strong Hand: {strong_hand}, Distance: {distance:.2f}\n",
    "    ''')\n",
    "    print_distances(train_distance_matrix_detailed[row_idx, idxs[sort_idx]])\n",
    "    display(Video.from_file(row['file_path']))\n",
    "    print('='*50)"
   ]
  },
  {
   "cell_type": "markdown",
   "id": "a71eb921",
   "metadata": {},
   "source": [
    "# Add High Level Categories"
   ]
  },
  {
   "cell_type": "code",
   "execution_count": 82,
   "id": "318363c2",
   "metadata": {},
   "outputs": [],
   "source": [
    "movement_categories = [\n",
    "    'none',\n",
    "    'vertical',\n",
    "    'diagonal',\n",
    "    'horizontal',\n",
    "    'other',\n",
    "]\n",
    "\n",
    "location_categegories = [\n",
    "    'upper body',\n",
    "    'lower torso',\n",
    "    'sub torso',\n",
    "    'non-neutral space',\n",
    "    'neutral space',\n",
    "    'other',\n",
    "]"
   ]
  },
  {
   "cell_type": "code",
   "execution_count": 83,
   "id": "03768a29",
   "metadata": {},
   "outputs": [
    {
     "data": {
      "text/plain": [
       "(neutral space,)                   162\n",
       "(upper body,)                       79\n",
       "(non-neutral space,)                46\n",
       "(lower torso,)                       5\n",
       "(neutral space, upper body)          3\n",
       "(sub torso,)                         3\n",
       "(non-neutral space, upper body)      1\n",
       "(lower torso, upper body)            1\n",
       "Name: location cat, dtype: int64"
      ]
     },
     "metadata": {},
     "output_type": "display_data"
    }
   ],
   "source": [
    "def get_location_cats(ee):\n",
    "    res = []\n",
    "    ee = map_location(ee)\n",
    "    for e in ee:\n",
    "        for node in reversed(LOCATION_TREE_PATHS[e]):\n",
    "            if node.lower() in location_categegories:\n",
    "                res.append(node)\n",
    "                break\n",
    "    return tuple(set(res))\n",
    "        \n",
    "train['location cat'] = train['Location Split'].apply(get_location_cats)\n",
    "display(train['location cat'].value_counts())"
   ]
  },
  {
   "cell_type": "code",
   "execution_count": 84,
   "id": "7890ed4a",
   "metadata": {},
   "outputs": [
    {
     "data": {
      "text/plain": [
       "(horizontal,)    103\n",
       "(none,)          101\n",
       "(vertical,)       65\n",
       "(other,)          17\n",
       "(diagonal,)       14\n",
       "Name: movement cat, dtype: int64"
      ]
     },
     "metadata": {},
     "output_type": "display_data"
    }
   ],
   "source": [
    "def get_movement_cats(e):\n",
    "    res = []\n",
    "    e = map_movement(e)\n",
    "    for node in reversed(MOVEMENT_TREE_PATHS[e]):\n",
    "        if node.lower() in movement_categories:\n",
    "            return tuple(set([node]))\n",
    "        \n",
    "train['movement cat'] = train['Movement Direction'].apply(get_movement_cats)\n",
    "display(train['movement cat'].value_counts())"
   ]
  },
  {
   "cell_type": "markdown",
   "id": "06dcf14f",
   "metadata": {},
   "source": [
    "# Categories Count Dictionary"
   ]
  },
  {
   "cell_type": "code",
   "execution_count": 85,
   "id": "511927a7",
   "metadata": {},
   "outputs": [],
   "source": [
    "def get_cat_count_dict(categories, key):\n",
    "    res = dict([(c, 0) for c in categories])\n",
    "    for l in categories:\n",
    "        for cats in train[key]:\n",
    "            for c in cats:\n",
    "                if c == l:\n",
    "                    res[c] += 1\n",
    "    return res\n",
    "\n",
    "lc_count_dict = get_cat_count_dict(location_categegories, 'location cat')\n",
    "mc_count_dict = get_cat_count_dict(movement_categories, 'movement cat')"
   ]
  },
  {
   "cell_type": "code",
   "execution_count": 86,
   "id": "be2a68b3",
   "metadata": {},
   "outputs": [],
   "source": [
    "def get_cat_count_tuple(cats, cat_count_dir):\n",
    "    res = []\n",
    "    for c in cats:\n",
    "        res.append(cat_count_dir[c])\n",
    "    return tuple(res)"
   ]
  },
  {
   "cell_type": "code",
   "execution_count": 87,
   "id": "9cfd9d14",
   "metadata": {},
   "outputs": [],
   "source": [
    "train['location cat count'] = train['location cat'].apply(lambda cats: get_cat_count_tuple(cats, lc_count_dict))\n",
    "train['movement cat count'] = train['movement cat'].apply(lambda cats: get_cat_count_tuple(cats, mc_count_dict))"
   ]
  },
  {
   "cell_type": "code",
   "execution_count": 88,
   "id": "15f56c8a",
   "metadata": {},
   "outputs": [],
   "source": [
    "train.to_pickle(f'ngt_signbank_validation_filtered_{SUBSET}_cats.pkl.xz')"
   ]
  },
  {
   "cell_type": "markdown",
   "id": "b9420677",
   "metadata": {},
   "source": [
    "# Save Similarities"
   ]
  },
  {
   "cell_type": "code",
   "execution_count": 89,
   "id": "8bb8ff97",
   "metadata": {},
   "outputs": [],
   "source": [
    "np.save('train_distance_matrix_300.npy', train_distance_matrix)\n",
    "np.save('train_distance_matrix_detailed_300.npy', train_distance_matrix_detailed)"
   ]
  },
  {
   "cell_type": "code",
   "execution_count": 90,
   "id": "7aca46a5",
   "metadata": {},
   "outputs": [],
   "source": [
    "# Train Similarity Detailed DataFrame\n",
    "train_similarity_detailed_dict = {\n",
    "    'handedness_distance': train_distance_matrix_detailed[:,:,0],\n",
    "    'location_distance': train_distance_matrix_detailed[:,:,1],\n",
    "    'movement_distance': train_distance_matrix_detailed[:,:,2],\n",
    "    'strong_hand_distance': train_distance_matrix_detailed[:,:,3],\n",
    "    'weak_hand_distance': train_distance_matrix_detailed[:,:,4],\n",
    "}"
   ]
  },
  {
   "cell_type": "code",
   "execution_count": 91,
   "id": "b0c063d3",
   "metadata": {},
   "outputs": [],
   "source": [
    "with lzma.open(f'train_distance_matrix_detailed_300_dict.xr', 'wb') as f:\n",
    "    pickle.dump(train_similarity_detailed_dict, f)"
   ]
  },
  {
   "cell_type": "code",
   "execution_count": null,
   "id": "a600a6b1",
   "metadata": {},
   "outputs": [],
   "source": []
  }
 ],
 "metadata": {
  "kernelspec": {
   "display_name": "Python 3",
   "language": "python",
   "name": "python3"
  },
  "language_info": {
   "codemirror_mode": {
    "name": "ipython",
    "version": 3
   },
   "file_extension": ".py",
   "mimetype": "text/x-python",
   "name": "python",
   "nbconvert_exporter": "python",
   "pygments_lexer": "ipython3",
   "version": "3.7.4"
  }
 },
 "nbformat": 4,
 "nbformat_minor": 5
}
