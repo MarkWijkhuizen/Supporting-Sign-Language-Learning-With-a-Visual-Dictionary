{
 "cells": [
  {
   "cell_type": "code",
   "execution_count": 4,
   "id": "7f57b1f7",
   "metadata": {},
   "outputs": [
    {
     "data": {
      "text/html": [
       "<style>.container { width:75% !important; }</style>"
      ],
      "text/plain": [
       "<IPython.core.display.HTML object>"
      ]
     },
     "metadata": {},
     "output_type": "display_data"
    },
    {
     "data": {
      "text/html": [
       "<style>.output_result { max-width:75% !important; }</style>"
      ],
      "text/plain": [
       "<IPython.core.display.HTML object>"
      ]
     },
     "metadata": {},
     "output_type": "display_data"
    },
    {
     "data": {
      "text/html": [
       "<style>.prompt { display:none !important; }</style>"
      ],
      "text/plain": [
       "<IPython.core.display.HTML object>"
      ]
     },
     "metadata": {},
     "output_type": "display_data"
    }
   ],
   "source": [
    "from IPython.core.display import display, HTML\n",
    "display(HTML(\"<style>.container { width:75% !important; }</style>\"))\n",
    "display(HTML(\"<style>.output_result { max-width:75% !important; }</style>\"))\n",
    "display(HTML(\"<style>.prompt { display:none !important; }</style>\"))"
   ]
  },
  {
   "cell_type": "code",
   "execution_count": 7,
   "id": "1d08efce",
   "metadata": {},
   "outputs": [],
   "source": [
    "import numpy as np\n",
    "import pandas as pd\n",
    "\n",
    "from sklearn.metrics import top_k_accuracy_score\n",
    "from tqdm.notebook import tqdm\n",
    "from scipy import spatial\n",
    "\n",
    "import math"
   ]
  },
  {
   "cell_type": "code",
   "execution_count": 6,
   "id": "cedae94c",
   "metadata": {},
   "outputs": [
    {
     "name": "stdout",
     "output_type": "stream",
     "text": [
      "train_embeddings shape: (300, 512), val_embeddings shape: (154, 512)\n",
      "train_embeddings dtype: float32, val_embeddings dtype: float32\n",
      "train_embeddings_lbls shape: (300,), val_embeddings_lbls shape: (154,)\n",
      "train_embeddings_lbls dtype: int64, val_embeddings_lbls dtype: int64\n"
     ]
    }
   ],
   "source": [
    "train_embeddings = np.load('MFF-pytorch/train_embeddings.npy')\n",
    "train_embeddings_lbls = np.load('MFF-pytorch/train_embeddings_lbls.npy')\n",
    "\n",
    "val_embeddings = np.load('MFF-pytorch/val_embeddings.npy')\n",
    "val_embeddings_lbls = np.load('MFF-pytorch/val_embeddings_lbls.npy')\n",
    "\n",
    "print(f'train_embeddings shape: {train_embeddings.shape}, val_embeddings shape: {val_embeddings.shape}')\n",
    "print(f'train_embeddings dtype: {train_embeddings.dtype}, val_embeddings dtype: {val_embeddings.dtype}')\n",
    "print(f'train_embeddings_lbls shape: {train_embeddings_lbls.shape}, val_embeddings_lbls shape: {val_embeddings_lbls.shape}')\n",
    "print(f'train_embeddings_lbls dtype: {train_embeddings_lbls.dtype}, val_embeddings_lbls dtype: {val_embeddings_lbls.dtype}')"
   ]
  },
  {
   "cell_type": "code",
   "execution_count": 13,
   "id": "ef230700",
   "metadata": {},
   "outputs": [
    {
     "name": "stdout",
     "output_type": "stream",
     "text": [
      "### TRAIN EMBEDDINGS STATISTICS ###\n"
     ]
    },
    {
     "data": {
      "text/plain": [
       "count    153600.000000\n",
       "mean          0.097199\n",
       "std           0.460197\n",
       "min           0.000000\n",
       "25%           0.000000\n",
       "50%           0.000000\n",
       "75%           0.000000\n",
       "max           8.923176\n",
       "dtype: float64"
      ]
     },
     "execution_count": 13,
     "metadata": {},
     "output_type": "execute_result"
    }
   ],
   "source": [
    "print('### TRAIN EMBEDDINGS STATISTICS ###')\n",
    "pd.Series(train_embeddings.flatten()).describe()"
   ]
  },
  {
   "cell_type": "code",
   "execution_count": 15,
   "id": "013f805b",
   "metadata": {},
   "outputs": [
    {
     "name": "stdout",
     "output_type": "stream",
     "text": [
      "### VALIDATION EMBEDDINGS STATISTICS ###\n"
     ]
    },
    {
     "data": {
      "text/plain": [
       "count    153600.000000\n",
       "mean          0.097199\n",
       "std           0.460197\n",
       "min           0.000000\n",
       "25%           0.000000\n",
       "50%           0.000000\n",
       "75%           0.000000\n",
       "max           8.923176\n",
       "dtype: float64"
      ]
     },
     "metadata": {},
     "output_type": "display_data"
    }
   ],
   "source": [
    "print('### VALIDATION EMBEDDINGS STATISTICS ###')\n",
    "display(pd.Series(train_embeddings.flatten()).describe())"
   ]
  },
  {
   "cell_type": "code",
   "execution_count": 19,
   "id": "54dc942f",
   "metadata": {},
   "outputs": [
    {
     "name": "stdout",
     "output_type": "stream",
     "text": [
      "y_score shape: (154, 300), y_true shape: (154,)\n"
     ]
    },
    {
     "data": {
      "text/plain": [
       "0.15584415584415584"
      ]
     },
     "execution_count": 19,
     "metadata": {},
     "output_type": "execute_result"
    }
   ],
   "source": [
    "def predict(query):\n",
    "    predictions = []\n",
    "    for embedding, lbl in zip(train_embeddings, train_embeddings_lbls):\n",
    "        similarity = 1 - spatial.distance.cosine(embedding, query)\n",
    "        predictions.append((similarity, lbl))\n",
    "    predictions_sorted = sorted(predictions, key=lambda elem: elem[1])\n",
    "    predictions_sorted = [sim for sim, _ in predictions_sorted]\n",
    "    \n",
    "    return predictions_sorted\n",
    "\n",
    "def get_predictions():\n",
    "    res = []\n",
    "    res_lbls = []\n",
    "    for query, query_lbl in zip(tqdm(val_embeddings), val_embeddings_lbls):\n",
    "        prediction = predict(query)\n",
    "        res.append(prediction)\n",
    "        res_lbls.append(query_lbl)\n",
    "        \n",
    "    return np.array(res), np.array(res_lbls)\n",
    "        \n",
    "\n",
    "# y_score, y_true = get_predictions()\n",
    "\n",
    "print(f'y_score shape: {y_score.shape}, y_true shape: {y_true.shape}')\n",
    "\n",
    "top_k_accuracy_score(y_true, y_score, k=20, labels=np.arange(300))"
   ]
  },
  {
   "cell_type": "code",
   "execution_count": 66,
   "id": "ac830783",
   "metadata": {},
   "outputs": [
    {
     "name": "stdout",
     "output_type": "stream",
     "text": [
      "_y_score shape: (4, 3), _y_true shape: (4,)\n"
     ]
    },
    {
     "data": {
      "text/plain": [
       "0.75"
      ]
     },
     "execution_count": 66,
     "metadata": {},
     "output_type": "execute_result"
    }
   ],
   "source": [
    "_y_true = np.array([0, 1, 2, 2])\n",
    "_y_score = np.array([[0.5, 0.2, 0.2],  # 0 is in top 2\n",
    "                     [0.3, 0.4, 0.2],  # 1 is in top 2\n",
    "                     [0.2, 0.4, 0.3],  # 2 is in top 2\n",
    "                     [0.7, 0.2, 0.1]]) # 2 isn't in top 2\n",
    "print(f'_y_score shape: {_y_score.shape}, _y_true shape: {_y_true.shape}')\n",
    "top_k_accuracy_score(_y_true, _y_score, k=2)"
   ]
  },
  {
   "cell_type": "code",
   "execution_count": 102,
   "id": "9a9493ea",
   "metadata": {},
   "outputs": [
    {
     "data": {
      "text/plain": [
       "1.0"
      ]
     },
     "execution_count": 102,
     "metadata": {},
     "output_type": "execute_result"
    }
   ],
   "source": [
    "1 - spatial.distance.cosine([1,0], [1,0])"
   ]
  },
  {
   "cell_type": "code",
   "execution_count": 27,
   "id": "1a31dbc8",
   "metadata": {},
   "outputs": [
    {
     "data": {
      "text/plain": [
       "array([0, 1, 0, 1])"
      ]
     },
     "execution_count": 27,
     "metadata": {},
     "output_type": "execute_result"
    }
   ],
   "source": [
    "from sklearn.cluster import KMeans\n",
    "import numpy as np\n",
    "X = np.array([\n",
    "    tuple([1,2]),\n",
    "    tuple([5,2]),\n",
    "    tuple([1,3]),\n",
    "    tuple([7,2]),\n",
    "])\n",
    "\n",
    "kmeans = KMeans(n_clusters=2, random_state=0).fit(X)\n",
    "kmeans.labels_"
   ]
  }
 ],
 "metadata": {
  "kernelspec": {
   "display_name": "Python 3",
   "language": "python",
   "name": "python3"
  },
  "language_info": {
   "codemirror_mode": {
    "name": "ipython",
    "version": 3
   },
   "file_extension": ".py",
   "mimetype": "text/x-python",
   "name": "python",
   "nbconvert_exporter": "python",
   "pygments_lexer": "ipython3",
   "version": "3.7.4"
  }
 },
 "nbformat": 4,
 "nbformat_minor": 5
}
