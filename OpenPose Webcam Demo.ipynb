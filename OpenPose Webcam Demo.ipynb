{
 "cells": [
  {
   "cell_type": "code",
   "execution_count": 1,
   "id": "optional-bolivia",
   "metadata": {},
   "outputs": [
    {
     "data": {
      "text/html": [
       "<style>.container { width:75% !important; }</style>"
      ],
      "text/plain": [
       "<IPython.core.display.HTML object>"
      ]
     },
     "metadata": {},
     "output_type": "display_data"
    }
   ],
   "source": [
    "from IPython.core.display import display, HTML\n",
    "display(HTML(\"<style>.container { width:75% !important; }</style>\"))"
   ]
  },
  {
   "cell_type": "code",
   "execution_count": 2,
   "id": "romantic-relief",
   "metadata": {},
   "outputs": [],
   "source": [
    "import numpy as np\n",
    "import pandas as pd\n",
    "\n",
    "import cv2\n",
    "import math\n",
    "import os\n",
    "import sys"
   ]
  },
  {
   "cell_type": "code",
   "execution_count": 3,
   "id": "unique-dryer",
   "metadata": {},
   "outputs": [
    {
     "name": "stdout",
     "output_type": "stream",
     "text": [
      "OpenPose GPU number: 1\n"
     ]
    }
   ],
   "source": [
    "try:\n",
    "    dir_path = 'C:/Users/markw/Documents/openpose/build'\n",
    "    sys.path.append(f'{dir_path}/python/openpose/Release');\n",
    "    os.environ['PATH']  = os.environ['PATH'] + ';' + f'{dir_path}/x64/Release;' +  '{dir_path}/bin;'\n",
    "    import pyopenpose as op\n",
    "    \n",
    "    print(f'OpenPose GPU number: {op.get_gpu_number()}')\n",
    "except ImportError as e:\n",
    "    print('Error: OpenPose library could not be found. Did you enable `BUILD_PYTHON` in CMake and have this Python script in the right folder?')\n",
    "    raise e"
   ]
  },
  {
   "cell_type": "code",
   "execution_count": 4,
   "id": "verified-ticket",
   "metadata": {},
   "outputs": [],
   "source": [
    "#Setting OpenPose parameters\n",
    "def set_params():\n",
    "        params = dict()\n",
    "        params[\"logging_level\"] = 3\n",
    "        params[\"output_resolution\"] = \"-1x-1\"\n",
    "        params[\"net_resolution\"] = \"-1x368\"\n",
    "        params[\"model_pose\"] = \"BODY_25\"\n",
    "        params[\"alpha_pose\"] = 0.6\n",
    "        params[\"scale_gap\"] = 0.3\n",
    "        params[\"scale_number\"] = 1\n",
    "        params[\"render_threshold\"] = 0.05\n",
    "        # If GPU version is built, and multiple GPUs are available, set the ID here\n",
    "        params[\"num_gpu_start\"] = 0\n",
    "        params[\"disable_blending\"] = False\n",
    "        # Ensure you point to the correct path where models are located\n",
    "        params[\"default_model_folder\"] = 'openpose/models'\n",
    "        return params\n",
    "\n",
    "def main():\n",
    "\n",
    "\n",
    "        params = set_params()\n",
    "\n",
    "        #Constructing OpenPose object allocates GPU memory\n",
    "        openpose = OpenPose(params)\n",
    "\n",
    "        #Opening OpenCV stream\n",
    "        stream = cv2.VideoCapture(1)\n",
    "\n",
    "        font = cv2.FONT_HERSHEY_SIMPLEX\n",
    "\n",
    "        while True:\n",
    "\n",
    "                ret,img = stream.read()\n",
    "\n",
    "                # Output keypoints and the image with the human skeleton blended on it\n",
    "                keypoints, output_image = openpose.forward(img, True)\n",
    "\n",
    "                # Print the human pose keypoints, i.e., a [#people x #keypoints x 3]-dimensional numpy object with the keypoints of all the people on that image\n",
    "                if len(keypoints)>0:\n",
    "                        print('Human(s) Pose Estimated!')\n",
    "                        print(keypoints)\n",
    "                else:\n",
    "                        print('No humans detected!')\n",
    "\n",
    "\n",
    "                # Display the stream\n",
    "                cv2.putText(output_image, 'OpenPose using Python-OpenCV', (20,30), font, 1, (255,255,255), 1, cv2.LINE_AA)\n",
    "\n",
    "                cv2.imshow('Human Pose Estimation', output_image)\n",
    "\n",
    "                key = cv2.waitKey(1)\n",
    "\n",
    "                if key==ord('q'):\n",
    "                        break\n",
    "\n",
    "        stream.release()\n",
    "        cv2.destroyAllWindows()"
   ]
  },
  {
   "cell_type": "code",
   "execution_count": 5,
   "id": "distinguished-virgin",
   "metadata": {},
   "outputs": [
    {
     "ename": "NameError",
     "evalue": "name 'OpenPose' is not defined",
     "output_type": "error",
     "traceback": [
      "\u001b[1;31m---------------------------------------------------------------------------\u001b[0m",
      "\u001b[1;31mNameError\u001b[0m                                 Traceback (most recent call last)",
      "\u001b[1;32m<ipython-input-5-263240bbee7e>\u001b[0m in \u001b[0;36m<module>\u001b[1;34m\u001b[0m\n\u001b[1;32m----> 1\u001b[1;33m \u001b[0mmain\u001b[0m\u001b[1;33m(\u001b[0m\u001b[1;33m)\u001b[0m\u001b[1;33m\u001b[0m\u001b[1;33m\u001b[0m\u001b[0m\n\u001b[0m",
      "\u001b[1;32m<ipython-input-4-2471e298bfbc>\u001b[0m in \u001b[0;36mmain\u001b[1;34m()\u001b[0m\n\u001b[0;32m     23\u001b[0m \u001b[1;33m\u001b[0m\u001b[0m\n\u001b[0;32m     24\u001b[0m         \u001b[1;31m#Constructing OpenPose object allocates GPU memory\u001b[0m\u001b[1;33m\u001b[0m\u001b[1;33m\u001b[0m\u001b[1;33m\u001b[0m\u001b[0m\n\u001b[1;32m---> 25\u001b[1;33m         \u001b[0mopenpose\u001b[0m \u001b[1;33m=\u001b[0m \u001b[0mOpenPose\u001b[0m\u001b[1;33m(\u001b[0m\u001b[0mparams\u001b[0m\u001b[1;33m)\u001b[0m\u001b[1;33m\u001b[0m\u001b[1;33m\u001b[0m\u001b[0m\n\u001b[0m\u001b[0;32m     26\u001b[0m \u001b[1;33m\u001b[0m\u001b[0m\n\u001b[0;32m     27\u001b[0m         \u001b[1;31m#Opening OpenCV stream\u001b[0m\u001b[1;33m\u001b[0m\u001b[1;33m\u001b[0m\u001b[1;33m\u001b[0m\u001b[0m\n",
      "\u001b[1;31mNameError\u001b[0m: name 'OpenPose' is not defined"
     ]
    }
   ],
   "source": [
    "main()"
   ]
  },
  {
   "cell_type": "code",
   "execution_count": null,
   "id": "sapphire-group",
   "metadata": {},
   "outputs": [],
   "source": []
  }
 ],
 "metadata": {
  "kernelspec": {
   "display_name": "Python 3",
   "language": "python",
   "name": "python3"
  },
  "language_info": {
   "codemirror_mode": {
    "name": "ipython",
    "version": 3
   },
   "file_extension": ".py",
   "mimetype": "text/x-python",
   "name": "python",
   "nbconvert_exporter": "python",
   "pygments_lexer": "ipython3",
   "version": "3.7.9"
  }
 },
 "nbformat": 4,
 "nbformat_minor": 5
}
